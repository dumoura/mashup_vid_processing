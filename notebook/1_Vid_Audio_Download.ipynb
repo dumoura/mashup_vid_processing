{
 "cells": [
  {
   "cell_type": "markdown",
   "metadata": {},
   "source": [
    "# Setings\n",
    "\n",
    "Bibliotecas usadas:\n",
    "\n",
    "- datetime\n",
    "- pandas\n",
    "- matplotlib\n",
    "\n",
    "- sys\n",
    "- json\n",
    "- glob\n",
    "\n",
    "- webvtt\n",
    "\n",
    "Outros:\n",
    "\n",
    "- Youtube API (https://developers.google.com/youtube/v3)\n",
    "- Youtube-dl (https://youtube-dl.org/)"
   ]
  },
  {
   "cell_type": "markdown",
   "metadata": {},
   "source": [
    "## Configurações básicas \n",
    "\n",
    "- Bibliotecas usadas\n",
    "- Diretórios e locais de trabalho\n"
   ]
  },
  {
   "cell_type": "code",
   "execution_count": 1,
   "metadata": {},
   "outputs": [],
   "source": [
    "# Bibliotecas usadas\n",
    "\n",
    "import os\n",
    "import pandas as pd\n",
    "from matplotlib import pyplot as plt\n",
    "\n",
    "import sys\n",
    "import datetime\n",
    "import json\n",
    "import glob\n",
    "\n",
    "import webvtt\n",
    "from moviepy.editor import *\n",
    "from PIL import Image"
   ]
  },
  {
   "cell_type": "code",
   "execution_count": 2,
   "metadata": {},
   "outputs": [
    {
     "name": "stdout",
     "output_type": "stream",
     "text": [
      "/Users/dumoura/Dev/PDev/Mashup_Vid_Processing/notebook\n"
     ]
    }
   ],
   "source": [
    "# Diretórios e locais de trabalho\n",
    "## dirbase = os.chdir(\"\") incluir sua base de trabalho\n",
    "\n",
    "cwd = os.getcwd()\n",
    "print(cwd)"
   ]
  },
  {
   "cell_type": "code",
   "execution_count": 3,
   "metadata": {},
   "outputs": [],
   "source": [
    "#Base_dir\n",
    "BASE_DIR = os.path.dirname(cwd) # base de trabalho\n",
    "DATA_DIR = os.path.join(BASE_DIR, \"data\") # dados gerais levantados durante projeto\n",
    "META_DIR = os.path.join(BASE_DIR, \"metadados\") #metadados levantados durante projeto\n",
    "SAMPLE_DIR = os.path.join(DATA_DIR, \"sample\") # material em processo - pode ser apagado ao final, caso julgue necessário\n",
    "INPUTS_DIR = os.path.join(SAMPLE_DIR, \"inputs\") # local de trabalho para processamento de dados de midia \n",
    "OUTPUTS_DIR = os.path.join(SAMPLE_DIR, \"outputs\") # local de trabalho para processamento de dados de midia \n",
    "\n",
    "#MASHUPS\n",
    "VIDS_DIR = os.path.join(DATA_DIR, \"vids\") # dados gerais levantados durante projeto\n",
    "\n",
    "#Inputs\n",
    "VID_DIR = os.path.join(INPUTS_DIR, \"vid_input\") # local de trabalho para processamento de dados de midia \n",
    "AUDIO_DIR = os.path.join(INPUTS_DIR, \"audio_input\") # local de trabalho para processamento de dados de midia # # Criar diretórios e locais de trabalho\n",
    "LGG_DIR = os.path.join(INPUTS_DIR, \"lgg_input\") # local de trabalho para processamento de dados de midia \n",
    "\n",
    "#Outputs\n",
    "FRAME_DIR = os.path.join(OUTPUTS_DIR, \"thumbnails\") # local de trabalho para processamento de dados de midia \n",
    "SONG_DIR = os.path.join(OUTPUTS_DIR, \"songs\") # local de trabalho para processamento de dados de midia # # Criar diretórios e locais de trabalho\n",
    "LYRIC_DIR = os.path.join(OUTPUTS_DIR, \"lyrics\") # local de trabalho para processamento de dados de midia \n",
    "\n",
    "#Make_dirs\n",
    "os.makedirs(DATA_DIR, exist_ok=True)\n",
    "os.makedirs(META_DIR, exist_ok=True)\n",
    "os.makedirs(SAMPLE_DIR, exist_ok=True)\n",
    "os.makedirs(INPUTS_DIR, exist_ok=True)\n",
    "os.makedirs(OUTPUTS_DIR, exist_ok=True)\n",
    "\n",
    "#Make_vids\n",
    "os.makedirs(VIDS_DIR, exist_ok=True)\n",
    "\n",
    "##Make_dirs inputs\n",
    "os.makedirs(VID_DIR , exist_ok=True)\n",
    "os.makedirs(AUDIO_DIR, exist_ok=True)\n",
    "os.makedirs(LGG_DIR, exist_ok=True)\n",
    "\n",
    "##Make_dirs outputs\n",
    "os.makedirs(FRAME_DIR, exist_ok=True)\n",
    "os.makedirs(SONG_DIR, exist_ok=True)\n",
    "os.makedirs(LYRIC_DIR, exist_ok=True)"
   ]
  },
  {
   "cell_type": "code",
   "execution_count": 4,
   "metadata": {},
   "outputs": [],
   "source": [
    "# Verificar se os diretórios e locais de trabalho foram criados corretamente\n",
    "# os.listdir(BASE_DIR)"
   ]
  },
  {
   "cell_type": "code",
   "execution_count": 4,
   "metadata": {},
   "outputs": [],
   "source": [
    "# Definir contexto -período- de trabalho \n",
    "\n",
    "now = datetime.datetime.now()\n",
    "year = datetime.datetime.now().year\n",
    "day = datetime.datetime.now().day\n",
    "month = datetime.datetime.now().month\n",
    "\n",
    "# Usar contexto para nomear documentos\n",
    "\n",
    "context = f\"_{month}-{day}-{year}\""
   ]
  },
  {
   "cell_type": "code",
   "execution_count": 6,
   "metadata": {},
   "outputs": [],
   "source": [
    "#print(context) \"\"\"retirar comentário para ver resultado\"\"\""
   ]
  },
  {
   "cell_type": "markdown",
   "metadata": {},
   "source": [
    "## Vids_download"
   ]
  },
  {
   "cell_type": "code",
   "execution_count": 8,
   "metadata": {},
   "outputs": [
    {
     "name": "stdout",
     "output_type": "stream",
     "text": [
      "/Users/dumoura/Dev/PDev/Mashup_Vid_Processing/data/links\n"
     ]
    }
   ],
   "source": [
    "# Levantar no diretório de cache/sub para baixar as legendas de cada vídeo - youtube-dl \n",
    "LINK_DIR = os.path.join(DATA_DIR, \"links\") \n",
    "os.makedirs(LINK_DIR, exist_ok=True)"
   ]
  },
  {
   "cell_type": "code",
   "execution_count": 15,
   "metadata": {},
   "outputs": [
    {
     "name": "stdout",
     "output_type": "stream",
     "text": [
      "/Users/dumoura/Dev/PDev/Mashup_Vid_Processing/data/links/mashup_links.txt\n"
     ]
    }
   ],
   "source": [
    "doc_path = LINK_DIR\n",
    "doc_name = \"mashup_links.txt\"\n",
    "link = f'{doc_path}/{doc_name}'"
   ]
  },
  {
   "cell_type": "code",
   "execution_count": 16,
   "metadata": {},
   "outputs": [
    {
     "data": {
      "text/plain": [
       "256"
      ]
     },
     "execution_count": 16,
     "metadata": {},
     "output_type": "execute_result"
    }
   ],
   "source": [
    "os.chdir(f\"{VIDS_DIR}\")\n",
    "# youtube-dl: para cada link em um arquivo [df] baixar o melhor formato de legenda automática em português [--write-auto-sub  --sub-format best], converter para vtt[--convert-subs vtt], não baixar os vídeos em si [--skip-download], ignorar erros [-i], salvar os arquivos e nomeá-los com o id do vídeo [--id]\n",
    "os.system(f\"youtube-dl -a {link} -i --id -f mp4\")"
   ]
  },
  {
   "cell_type": "code",
   "execution_count": 24,
   "metadata": {},
   "outputs": [
    {
     "data": {
      "text/plain": [
       "['29_Beatles_Sublime_DJMagnet.mp4',\n",
       " '22_MichaelJa_JamesB_MadMixMustang.mp4',\n",
       " '24_A_WhiteStripes_Nirvana_DJBootOXs_Panicversion.mp4',\n",
       " '23_Alice Cooper_Earth_MadMixMustang.mp4',\n",
       " '21_Nelly_BeeGs_Lobsterdust.mp4',\n",
       " '30_RickAstley_Nirvana_Gazzisthecoolestman.mp4',\n",
       " '27_B_JohnnyCash_CypressHill_Frogthedag.mp4',\n",
       " '28_PetulaClark_Beatles_GoHomeProductions.mp4',\n",
       " '27_A_JohnnyCash_CypressHill_Frogthedag.mp4',\n",
       " '25_Queen_BlackSabbath_GoHomeProductions.mp4']"
      ]
     },
     "execution_count": 24,
     "metadata": {},
     "output_type": "execute_result"
    }
   ],
   "source": [
    "os.listdir(VIDS_DIR)"
   ]
  },
  {
   "cell_type": "markdown",
   "metadata": {},
   "source": [
    "## Audio_download"
   ]
  },
  {
   "cell_type": "code",
   "execution_count": 22,
   "metadata": {},
   "outputs": [],
   "source": [
    "# Levantar no diretório de cache/sub para baixar as legendas de cada vídeo - youtube-dl \n",
    "AUDIOS_DIR = os.path.join(DATA_DIR, \"audio\") \n",
    "os.makedirs(AUDIOS_DIR, exist_ok=True)"
   ]
  },
  {
   "cell_type": "code",
   "execution_count": 23,
   "metadata": {},
   "outputs": [
    {
     "data": {
      "text/plain": [
       "256"
      ]
     },
     "execution_count": 23,
     "metadata": {},
     "output_type": "execute_result"
    }
   ],
   "source": [
    "os.chdir(f\"{AUDIOS_DIR}\")\n",
    "\n",
    "# youtube-dl: para cada link em um arquivo [df] baixar o melhor formato de legenda automática em português [--write-auto-sub  --sub-format best], converter para vtt[--convert-subs vtt], não baixar os vídeos em si [--skip-download], ignorar erros [-i], salvar os arquivos e nomeá-los com o id do vídeo [--id]\n",
    "os.system(f\"youtube-dl -a {link} -x --audio-format mp3 -i --id\")"
   ]
  },
  {
   "cell_type": "code",
   "execution_count": 25,
   "metadata": {},
   "outputs": [
    {
     "data": {
      "text/plain": [
       "['rxxPkakYPIQ.mp3',\n",
       " 'eXz0bDnMf0I.mp3',\n",
       " 'Qf5o-8eZdag.mp3',\n",
       " 'd_O2Pol8gMs.mp3',\n",
       " '52BlQLuBNYA.mp3',\n",
       " 'YOj8aLhe2rQ.mp3',\n",
       " 's8Kzqzd5IT4.mp3',\n",
       " 'w3PT4kL1Q00.mp3',\n",
       " 'NN75im_us4k.mp3',\n",
       " '17hoFewb2K8.mp3']"
      ]
     },
     "execution_count": 25,
     "metadata": {},
     "output_type": "execute_result"
    }
   ],
   "source": [
    "os.listdir(AUDIOS_DIR)"
   ]
  },
  {
   "cell_type": "code",
   "execution_count": null,
   "metadata": {},
   "outputs": [],
   "source": []
  }
 ],
 "metadata": {
  "kernelspec": {
   "display_name": "Python 3",
   "language": "python",
   "name": "python3"
  },
  "language_info": {
   "codemirror_mode": {
    "name": "ipython",
    "version": 3
   },
   "file_extension": ".py",
   "mimetype": "text/x-python",
   "name": "python",
   "nbconvert_exporter": "python",
   "pygments_lexer": "ipython3",
   "version": "3.8.5"
  }
 },
 "nbformat": 4,
 "nbformat_minor": 4
}
