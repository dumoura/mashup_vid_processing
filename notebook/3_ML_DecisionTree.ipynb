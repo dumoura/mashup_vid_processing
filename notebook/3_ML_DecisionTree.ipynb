{
 "cells": [
  {
   "cell_type": "markdown",
   "metadata": {},
   "source": [
    "# Decision Tree Model"
   ]
  },
  {
   "cell_type": "markdown",
   "metadata": {},
   "source": [
    "### Settings - Load libraries"
   ]
  },
  {
   "cell_type": "code",
   "execution_count": 1,
   "metadata": {},
   "outputs": [],
   "source": [
    "import os\n",
    "import pandas as pd\n",
    "from sklearn.tree import DecisionTreeClassifier # Import Decision Tree Classifier\n",
    "from sklearn.model_selection import train_test_split # Import train_test_split function\n",
    "from sklearn import metrics #Import scikit-learn metrics module for accuracy calculation\n"
   ]
  },
  {
   "cell_type": "markdown",
   "metadata": {},
   "source": [
    "### Settings - Directories and files"
   ]
  },
  {
   "cell_type": "code",
   "execution_count": 57,
   "metadata": {},
   "outputs": [
    {
     "name": "stdout",
     "output_type": "stream",
     "text": [
      "/Users/dumoura/Dev/PDev/Mashup_Vid_Processing/notebook\n"
     ]
    }
   ],
   "source": [
    "os.chdir(\"/Users/dumoura/Dev/PDev/Mashup_Vid_Processing/notebook\")\n",
    "cwd = os.getcwd()\n",
    "print(cwd)"
   ]
  },
  {
   "cell_type": "code",
   "execution_count": 58,
   "metadata": {},
   "outputs": [],
   "source": [
    "# Diretórios e locais de trabalho\n",
    "\n",
    "#Base_dir\n",
    "BASE_DIR = os.path.dirname(cwd) # base de trabalho\n",
    "DATA_DIR = os.path.join(BASE_DIR, \"data\") # dados gerais levantados durante projeto\n",
    "META_DIR = os.path.join(BASE_DIR, \"metadados\") #metadados levantados durante projeto\n",
    "SAMPLE_DIR = os.path.join(DATA_DIR, \"sample\") # material em processo - pode ser apagado ao final, caso julgue necessário\n",
    "INPUTS_DIR = os.path.join(SAMPLE_DIR, \"inputs\") # local de trabalho para processamento de dados de midia \n",
    "OUTPUTS_DIR = os.path.join(SAMPLE_DIR, \"outputs\") # local de trabalho para processamento de dados de midia \n",
    "\n",
    "#MASHUPS\n",
    "VIDS_DIR = os.path.join(DATA_DIR, \"vids\") # dados gerais levantados durante projeto\n",
    "\n",
    "#Inputs\n",
    "VID_DIR = os.path.join(INPUTS_DIR, \"vid_input\") # local de trabalho para processamento de dados de midia \n",
    "AUDIO_DIR = os.path.join(INPUTS_DIR, \"audio_input\") # local de trabalho para processamento de dados de midia # # Criar diretórios e locais de trabalho\n",
    "LGG_DIR = os.path.join(INPUTS_DIR, \"lgg_input\") # local de trabalho para processamento de dados de midia \n",
    "\n",
    "#Outputs\n",
    "FRAME_DIR = os.path.join(OUTPUTS_DIR, \"thumbnails\") # local de trabalho para processamento de dados de midia \n",
    "SONG_DIR = os.path.join(OUTPUTS_DIR, \"songs\") # local de trabalho para processamento de dados de midia # # Criar diretórios e locais de trabalho\n",
    "LYRIC_DIR = os.path.join(OUTPUTS_DIR, \"lyrics\") # local de trabalho para processamento de dados de midia \n",
    "\n",
    "#Make_dirs\n",
    "os.makedirs(DATA_DIR, exist_ok=True)\n",
    "os.makedirs(META_DIR, exist_ok=True)\n",
    "os.makedirs(SAMPLE_DIR, exist_ok=True)\n",
    "os.makedirs(INPUTS_DIR, exist_ok=True)\n",
    "os.makedirs(OUTPUTS_DIR, exist_ok=True)\n",
    "\n",
    "#Make_vids\n",
    "os.makedirs(VIDS_DIR, exist_ok=True)\n",
    "\n",
    "##Make_dirs inputs\n",
    "os.makedirs(VID_DIR , exist_ok=True)\n",
    "os.makedirs(AUDIO_DIR, exist_ok=True)\n",
    "os.makedirs(LGG_DIR, exist_ok=True)\n",
    "\n",
    "##Make_dirs outputs\n",
    "os.makedirs(FRAME_DIR, exist_ok=True)\n",
    "os.makedirs(SONG_DIR, exist_ok=True)\n",
    "os.makedirs(LYRIC_DIR, exist_ok=True)"
   ]
  },
  {
   "cell_type": "markdown",
   "metadata": {},
   "source": [
    "### loading document to train and set the decision tree model"
   ]
  },
  {
   "cell_type": "code",
   "execution_count": 59,
   "metadata": {},
   "outputs": [
    {
     "data": {
      "text/plain": [
       "['.Rhistory',\n",
       " '26_CarpentersOasis.csv',\n",
       " '.DS_Store',\n",
       " 'MlKeywordsClassified.csv',\n",
       " '26_CarpentersOasis_ML_Pred.csv',\n",
       " 'Vid24_WhiteStripesNirvana_ML_Tgd.csv',\n",
       " '26_CarpentersOasis_03.csv',\n",
       " '26_CarpentersOasis_02.csv',\n",
       " 'Vid24_WhiteStripesNirvana_ManualTagged.csv',\n",
       " 'Vid24_WhiteStripesNirvana_ML_Pred.csv']"
      ]
     },
     "execution_count": 59,
     "metadata": {},
     "output_type": "execute_result"
    }
   ],
   "source": [
    "os.chdir(META_DIR)\n",
    "os.listdir()"
   ]
  },
  {
   "cell_type": "code",
   "execution_count": 62,
   "metadata": {},
   "outputs": [],
   "source": [
    "# col_names to be use as dependent variable \n",
    "\n",
    "col_names = ['imageID', 'Keywords', 'brightness_median', 'brightness_stdev',\n",
    "       'saturation_median', 'saturation_stdev', 'hue_median', 'hue_stdev',\n",
    "       'Count', 'Total Area', 'Average Size', '%Area']\n",
    "\n",
    "df = pd.read_csv('26_CarpentersOasis_02.csv', header=0, names=col_names)\n"
   ]
  },
  {
   "cell_type": "code",
   "execution_count": 63,
   "metadata": {},
   "outputs": [],
   "source": [
    "df = df.dropna()"
   ]
  },
  {
   "cell_type": "code",
   "execution_count": 64,
   "metadata": {},
   "outputs": [
    {
     "data": {
      "text/plain": [
       "Index(['imageID', 'Keywords', 'brightness_median', 'brightness_stdev',\n",
       "       'saturation_median', 'saturation_stdev', 'hue_median', 'hue_stdev',\n",
       "       'Count', 'Total Area', 'Average Size', '%Area'],\n",
       "      dtype='object')"
      ]
     },
     "execution_count": 64,
     "metadata": {},
     "output_type": "execute_result"
    }
   ],
   "source": [
    "df.columns"
   ]
  },
  {
   "cell_type": "markdown",
   "metadata": {},
   "source": [
    "### Splitting Data"
   ]
  },
  {
   "cell_type": "code",
   "execution_count": 65,
   "metadata": {},
   "outputs": [],
   "source": [
    "# divide given columns into two variables: dependent (or target variable) and independent (or feature variables)\n",
    "feature_cols = ['imageID', 'brightness_median', 'brightness_stdev',\n",
    "       'saturation_median', 'saturation_stdev', 'hue_median', 'hue_stdev',\n",
    "       'Count', 'Total Area', 'Average Size', '%Area',]\n",
    "\n",
    "X = df[feature_cols] #  dependent: feature variables\n",
    "y = df.Keywords # independent: target variable\n",
    "\n"
   ]
  },
  {
   "cell_type": "code",
   "execution_count": 66,
   "metadata": {},
   "outputs": [],
   "source": [
    "# Split dataset: training set and test set => 70% training and 30% test\n",
    "\n",
    "X_train, X_test, y_train, y_test = train_test_split(X, y, test_size=0.3, random_state=1) "
   ]
  },
  {
   "cell_type": "markdown",
   "metadata": {},
   "source": [
    "### Decision Tree Model"
   ]
  },
  {
   "cell_type": "code",
   "execution_count": 71,
   "metadata": {},
   "outputs": [],
   "source": [
    "# Create Decision Tree classifer object\n",
    "\n",
    "clf = DecisionTreeClassifier(criterion = 'gini') # the the regular criterion is 'gini', it was changed to 'entropy'. Also, the max_depth may be set as well.\n",
    "\n",
    "# Train Decision Tree Classifer\n",
    "clf = clf.fit(X_train,y_train)\n",
    "#Predict the response for test dataset\n",
    "y_pred = clf.predict(X_test)"
   ]
  },
  {
   "cell_type": "markdown",
   "metadata": {},
   "source": [
    "### Evaluating  - How often is the classifier correct? "
   ]
  },
  {
   "cell_type": "code",
   "execution_count": 72,
   "metadata": {},
   "outputs": [
    {
     "name": "stdout",
     "output_type": "stream",
     "text": [
      "Accuracy: 0.8387096774193549\n"
     ]
    }
   ],
   "source": [
    "# Model Accuracy\n",
    "print(\"Accuracy:\",metrics.accuracy_score(y_test, y_pred))"
   ]
  },
  {
   "cell_type": "markdown",
   "metadata": {},
   "source": [
    "## Tagging"
   ]
  },
  {
   "cell_type": "code",
   "execution_count": 73,
   "metadata": {},
   "outputs": [
    {
     "data": {
      "text/plain": [
       "['.Rhistory',\n",
       " '26_CarpentersOasis.csv',\n",
       " '.DS_Store',\n",
       " 'MlKeywordsClassified.csv',\n",
       " '26_CarpentersOasis_ML_Pred.csv',\n",
       " 'Vid24_WhiteStripesNirvana_ML_Tgd.csv',\n",
       " '26_CarpentersOasis_03.csv',\n",
       " '26_CarpentersOasis_02.csv',\n",
       " 'Vid24_WhiteStripesNirvana_ManualTagged.csv',\n",
       " 'Vid24_WhiteStripesNirvana_ML_Pred.csv']"
      ]
     },
     "execution_count": 73,
     "metadata": {},
     "output_type": "execute_result"
    }
   ],
   "source": [
    "os.listdir()"
   ]
  },
  {
   "cell_type": "code",
   "execution_count": 77,
   "metadata": {},
   "outputs": [],
   "source": [
    "# col_names = [ 'file', 'imageID', 'brightness_median', 'brightness_stdev',\n",
    "#        'saturation_median', 'saturation_stdev', 'hue_median', 'hue_stdev',\n",
    "#        'Count', 'Total Area', 'Average Size', '%Area']\n",
    "\n",
    "col_names = ['imageID', 'brightness_median', 'brightness_stdev', 'saturation_median',\n",
    "       'saturation_stdev', 'hue_median', 'hue_stdev', 'Count', 'Total Area',\n",
    "       'Average Size', '%Area']\n",
    "\n",
    "k_pred = pd.read_csv('26_CarpentersOasis_ML_Pred.csv', header=0, names=col_names)"
   ]
  },
  {
   "cell_type": "code",
   "execution_count": 78,
   "metadata": {},
   "outputs": [],
   "source": [
    "k_pred.columns\n",
    "k_pred = k_pred.dropna()"
   ]
  },
  {
   "cell_type": "code",
   "execution_count": 79,
   "metadata": {},
   "outputs": [
    {
     "data": {
      "text/html": [
       "<div>\n",
       "<style scoped>\n",
       "    .dataframe tbody tr th:only-of-type {\n",
       "        vertical-align: middle;\n",
       "    }\n",
       "\n",
       "    .dataframe tbody tr th {\n",
       "        vertical-align: top;\n",
       "    }\n",
       "\n",
       "    .dataframe thead th {\n",
       "        text-align: right;\n",
       "    }\n",
       "</style>\n",
       "<table border=\"1\" class=\"dataframe\">\n",
       "  <thead>\n",
       "    <tr style=\"text-align: right;\">\n",
       "      <th></th>\n",
       "      <th>imageID</th>\n",
       "      <th>brightness_median</th>\n",
       "      <th>brightness_stdev</th>\n",
       "      <th>saturation_median</th>\n",
       "      <th>saturation_stdev</th>\n",
       "      <th>hue_median</th>\n",
       "      <th>hue_stdev</th>\n",
       "      <th>Count</th>\n",
       "      <th>Total Area</th>\n",
       "      <th>Average Size</th>\n",
       "      <th>%Area</th>\n",
       "    </tr>\n",
       "  </thead>\n",
       "  <tbody>\n",
       "    <tr>\n",
       "      <th>0</th>\n",
       "      <td>30</td>\n",
       "      <td>0</td>\n",
       "      <td>22.6181</td>\n",
       "      <td>0</td>\n",
       "      <td>48.9935</td>\n",
       "      <td>0</td>\n",
       "      <td>39.6775</td>\n",
       "      <td>4</td>\n",
       "      <td>15367</td>\n",
       "      <td>3841.750</td>\n",
       "      <td>12.555</td>\n",
       "    </tr>\n",
       "    <tr>\n",
       "      <th>1</th>\n",
       "      <td>33</td>\n",
       "      <td>0</td>\n",
       "      <td>80.7081</td>\n",
       "      <td>0</td>\n",
       "      <td>34.6160</td>\n",
       "      <td>0</td>\n",
       "      <td>46.9229</td>\n",
       "      <td>8</td>\n",
       "      <td>16953</td>\n",
       "      <td>2119.125</td>\n",
       "      <td>13.850</td>\n",
       "    </tr>\n",
       "    <tr>\n",
       "      <th>2</th>\n",
       "      <td>36</td>\n",
       "      <td>0</td>\n",
       "      <td>80.6511</td>\n",
       "      <td>0</td>\n",
       "      <td>34.1051</td>\n",
       "      <td>0</td>\n",
       "      <td>46.4859</td>\n",
       "      <td>6</td>\n",
       "      <td>16914</td>\n",
       "      <td>2819.000</td>\n",
       "      <td>13.819</td>\n",
       "    </tr>\n",
       "    <tr>\n",
       "      <th>3</th>\n",
       "      <td>39</td>\n",
       "      <td>0</td>\n",
       "      <td>80.6809</td>\n",
       "      <td>0</td>\n",
       "      <td>33.3011</td>\n",
       "      <td>0</td>\n",
       "      <td>46.6411</td>\n",
       "      <td>6</td>\n",
       "      <td>16938</td>\n",
       "      <td>2823.000</td>\n",
       "      <td>13.838</td>\n",
       "    </tr>\n",
       "    <tr>\n",
       "      <th>4</th>\n",
       "      <td>42</td>\n",
       "      <td>0</td>\n",
       "      <td>80.7070</td>\n",
       "      <td>0</td>\n",
       "      <td>32.9358</td>\n",
       "      <td>0</td>\n",
       "      <td>46.6317</td>\n",
       "      <td>8</td>\n",
       "      <td>16944</td>\n",
       "      <td>2118.000</td>\n",
       "      <td>13.843</td>\n",
       "    </tr>\n",
       "  </tbody>\n",
       "</table>\n",
       "</div>"
      ],
      "text/plain": [
       "   imageID  brightness_median  brightness_stdev  saturation_median  \\\n",
       "0       30                  0           22.6181                  0   \n",
       "1       33                  0           80.7081                  0   \n",
       "2       36                  0           80.6511                  0   \n",
       "3       39                  0           80.6809                  0   \n",
       "4       42                  0           80.7070                  0   \n",
       "\n",
       "   saturation_stdev  hue_median  hue_stdev  Count  Total Area  Average Size  \\\n",
       "0           48.9935           0    39.6775      4       15367      3841.750   \n",
       "1           34.6160           0    46.9229      8       16953      2119.125   \n",
       "2           34.1051           0    46.4859      6       16914      2819.000   \n",
       "3           33.3011           0    46.6411      6       16938      2823.000   \n",
       "4           32.9358           0    46.6317      8       16944      2118.000   \n",
       "\n",
       "    %Area  \n",
       "0  12.555  \n",
       "1  13.850  \n",
       "2  13.819  \n",
       "3  13.838  \n",
       "4  13.843  "
      ]
     },
     "execution_count": 79,
     "metadata": {},
     "output_type": "execute_result"
    }
   ],
   "source": [
    "# k_pred = k_pred.drop(columns=['file'])\n",
    "k_pred.head()"
   ]
  },
  {
   "cell_type": "code",
   "execution_count": 80,
   "metadata": {},
   "outputs": [],
   "source": [
    "# Create Decision Tree classifer object\n",
    "clf = DecisionTreeClassifier()\n",
    "\n",
    "# Train Decision Tree Classifer\n",
    "clf = clf.fit(X_train, y_train)\n",
    "\n",
    "#Predict the response for test dataset\n",
    "y_pred = clf.predict(k_pred)"
   ]
  },
  {
   "cell_type": "code",
   "execution_count": 81,
   "metadata": {},
   "outputs": [],
   "source": [
    "k = []\n",
    "\n",
    "for i, row in enumerate(y_pred):\n",
    "    k.append((row))\n",
    "    \n",
    "k = pd.DataFrame(k, columns=[\"Keywords\"])"
   ]
  },
  {
   "cell_type": "code",
   "execution_count": 82,
   "metadata": {},
   "outputs": [
    {
     "name": "stdout",
     "output_type": "stream",
     "text": [
      "                       Keywords\n",
      "0     B_Instrumental_main-track\n",
      "1     B_Instrumental_main-track\n",
      "2     B_Instrumental_main-track\n",
      "3     B_Instrumental_main-track\n",
      "4     B_Instrumental_main-track\n",
      "...                         ...\n",
      "2045   Y_Special effects_titles\n",
      "2046   Y_Special effects_titles\n",
      "2047   Y_Special effects_titles\n",
      "2048   Y_Special effects_titles\n",
      "2049   Y_Special effects_titles\n",
      "\n",
      "[2050 rows x 1 columns]\n"
     ]
    }
   ],
   "source": [
    "print(k)"
   ]
  },
  {
   "cell_type": "code",
   "execution_count": 83,
   "metadata": {},
   "outputs": [],
   "source": [
    "k.to_csv(\"MlKeywordsClassifiedOasys.csv\")"
   ]
  },
  {
   "cell_type": "code",
   "execution_count": null,
   "metadata": {},
   "outputs": [],
   "source": []
  }
 ],
 "metadata": {
  "kernelspec": {
   "display_name": "Python 3",
   "language": "python",
   "name": "python3"
  },
  "language_info": {
   "codemirror_mode": {
    "name": "ipython",
    "version": 3
   },
   "file_extension": ".py",
   "mimetype": "text/x-python",
   "name": "python",
   "nbconvert_exporter": "python",
   "pygments_lexer": "ipython3",
   "version": "3.8.5"
  }
 },
 "nbformat": 4,
 "nbformat_minor": 4
}
