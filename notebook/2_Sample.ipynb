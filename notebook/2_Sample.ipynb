{
 "cells": [
  {
   "cell_type": "markdown",
   "metadata": {},
   "source": [
    "### Settings - Load libraries"
   ]
  },
  {
   "cell_type": "code",
   "execution_count": 22,
   "metadata": {},
   "outputs": [],
   "source": [
    "import os\n",
    "import pandas as pd\n",
    "# from matplotlib import pyplot as plt\n",
    "\n",
    "import sys\n",
    "import datetime\n",
    "import json\n",
    "import glob\n",
    "\n",
    "# import webvtt\n",
    "from moviepy.editor import *\n",
    "from PIL import Image"
   ]
  },
  {
   "cell_type": "markdown",
   "metadata": {},
   "source": [
    "### Settings - Directories and files¶"
   ]
  },
  {
   "cell_type": "code",
   "execution_count": 51,
   "metadata": {},
   "outputs": [
    {
     "name": "stdout",
     "output_type": "stream",
     "text": [
      "/Users/dumoura/Dev/PDev/Mashup_Vid_Processing/notebook\n"
     ]
    }
   ],
   "source": [
    "#os.chdir(\".../notebook\")\n",
    "\n",
    "cwd = os.getcwd()\n",
    "print(cwd)"
   ]
  },
  {
   "cell_type": "code",
   "execution_count": 4,
   "metadata": {},
   "outputs": [],
   "source": [
    "#Base_dir\n",
    "BASE_DIR = os.path.dirname(cwd) # base de trabalho\n",
    "DATA_DIR = os.path.join(BASE_DIR, \"data\") # dados gerais levantados durante projeto\n",
    "META_DIR = os.path.join(BASE_DIR, \"metadados\") #metadados levantados durante projeto\n",
    "SAMPLE_DIR = os.path.join(DATA_DIR, \"sample\") # material em processo - pode ser apagado ao final, caso julgue necessário\n",
    "INPUTS_DIR = os.path.join(SAMPLE_DIR, \"inputs\") # local de trabalho para processamento de dados de midia \n",
    "OUTPUTS_DIR = os.path.join(SAMPLE_DIR, \"outputs\") # local de trabalho para processamento de dados de midia \n",
    "\n",
    "#MASHUPS\n",
    "VIDS_DIR = os.path.join(DATA_DIR, \"vids\") # dados gerais levantados durante projeto\n",
    "\n",
    "#Inputs\n",
    "VID_DIR = os.path.join(INPUTS_DIR, \"vid_input\") # local de trabalho para processamento de dados de midia \n",
    "AUDIO_DIR = os.path.join(INPUTS_DIR, \"audio_input\") # local de trabalho para processamento de dados de midia # # Criar diretórios e locais de trabalho\n",
    "LGG_DIR = os.path.join(INPUTS_DIR, \"lgg_input\") # local de trabalho para processamento de dados de midia \n",
    "\n",
    "#Outputs\n",
    "FRAME_DIR = os.path.join(OUTPUTS_DIR, \"thumbnails\") # local de trabalho para processamento de dados de midia \n",
    "SONG_DIR = os.path.join(OUTPUTS_DIR, \"songs\") # local de trabalho para processamento de dados de midia # # Criar diretórios e locais de trabalho\n",
    "LYRIC_DIR = os.path.join(OUTPUTS_DIR, \"lyrics\") # local de trabalho para processamento de dados de midia \n",
    "\n",
    "#Make_dirs\n",
    "os.makedirs(DATA_DIR, exist_ok=True)\n",
    "os.makedirs(META_DIR, exist_ok=True)\n",
    "os.makedirs(SAMPLE_DIR, exist_ok=True)\n",
    "os.makedirs(INPUTS_DIR, exist_ok=True)\n",
    "os.makedirs(OUTPUTS_DIR, exist_ok=True)\n",
    "\n",
    "#Make_vids\n",
    "os.makedirs(VIDS_DIR, exist_ok=True)\n",
    "\n",
    "##Make_dirs inputs\n",
    "os.makedirs(VID_DIR , exist_ok=True)\n",
    "os.makedirs(AUDIO_DIR, exist_ok=True)\n",
    "os.makedirs(LGG_DIR, exist_ok=True)\n",
    "\n",
    "##Make_dirs outputs\n",
    "os.makedirs(FRAME_DIR, exist_ok=True)\n",
    "os.makedirs(SONG_DIR, exist_ok=True)\n",
    "os.makedirs(LYRIC_DIR, exist_ok=True)"
   ]
  },
  {
   "cell_type": "code",
   "execution_count": 5,
   "metadata": {},
   "outputs": [
    {
     "data": {
      "text/plain": [
       "['.DS_Store',\n",
       " 'README.md',\n",
       " 'metadados',\n",
       " '.ipynb_checkpoints',\n",
       " 'notebook',\n",
       " '.git',\n",
       " 'data']"
      ]
     },
     "execution_count": 5,
     "metadata": {},
     "output_type": "execute_result"
    }
   ],
   "source": [
    "os.listdir(BASE_DIR)"
   ]
  },
  {
   "cell_type": "code",
   "execution_count": 6,
   "metadata": {},
   "outputs": [],
   "source": [
    "# Definir contexto -período- de trabalho \n",
    "\n",
    "now = datetime.datetime.now()\n",
    "year = datetime.datetime.now().year\n",
    "day = datetime.datetime.now().day\n",
    "month = datetime.datetime.now().month\n",
    "\n",
    "# Usar contexto para nomear documentos\n",
    "\n",
    "context = f\"_{month}-{day}-{year}\""
   ]
  },
  {
   "cell_type": "markdown",
   "metadata": {},
   "source": [
    "## Vids to process"
   ]
  },
  {
   "cell_type": "code",
   "execution_count": 7,
   "metadata": {},
   "outputs": [
    {
     "data": {
      "text/plain": [
       "['24_B_WhiteStripes_Nirvana_DJBootOXs_Panicversion.mp4',\n",
       " '26_CarpentersOasis.mp4',\n",
       " '29_Beatles_Sublime_DJMagnet.mp4',\n",
       " '22_MichaelJa_JamesB_MadMixMustang.mp4',\n",
       " '24_A_WhiteStripes_Nirvana_DJBootOXs_Panicversion.mp4',\n",
       " '23_Alice Cooper_Earth_MadMixMustang.mp4',\n",
       " '21_Nelly_BeeGs_Lobsterdust.mp4',\n",
       " '30_RickAstley_Nirvana_Gazzisthecoolestman.mp4',\n",
       " '27_B_JohnnyCash_CypressHill_Frogthedag.mp4',\n",
       " '28_PetulaClark_Beatles_GoHomeProductions.mp4',\n",
       " '27_A_JohnnyCash_CypressHill_Frogthedag.mp4',\n",
       " '25_Queen_BlackSabbath_GoHomeProductions.mp4']"
      ]
     },
     "execution_count": 7,
     "metadata": {},
     "output_type": "execute_result"
    }
   ],
   "source": [
    "vid_list = os.listdir(VIDS_DIR)\n",
    "vid_list"
   ]
  },
  {
   "cell_type": "code",
   "execution_count": 10,
   "metadata": {},
   "outputs": [],
   "source": [
    "file1 = vid_list[1] #item\n",
    "file2 = f\"{VID_DIR}/sample.mp4\""
   ]
  },
  {
   "cell_type": "code",
   "execution_count": 11,
   "metadata": {},
   "outputs": [
    {
     "data": {
      "text/plain": [
       "0"
      ]
     },
     "execution_count": 11,
     "metadata": {},
     "output_type": "execute_result"
    }
   ],
   "source": [
    "os.chdir(VIDS_DIR)\n",
    "os.system(f\"cp {file1}\")\n",
    "os.system(f\"mv {file1} {file2}\")\n"
   ]
  },
  {
   "cell_type": "markdown",
   "metadata": {},
   "source": [
    "### Vids info to be process "
   ]
  },
  {
   "cell_type": "code",
   "execution_count": 12,
   "metadata": {},
   "outputs": [
    {
     "name": "stdout",
     "output_type": "stream",
     "text": [
      "CarpentersOasis\n"
     ]
    }
   ],
   "source": [
    "name = file1[3:-4]\n",
    "print(name)"
   ]
  },
  {
   "cell_type": "code",
   "execution_count": 13,
   "metadata": {},
   "outputs": [],
   "source": [
    "##thumbnail_dir\n",
    "source_path = os.path.join(VID_DIR, \"sample.mp4\")"
   ]
  },
  {
   "cell_type": "code",
   "execution_count": 16,
   "metadata": {},
   "outputs": [
    {
     "name": "stdout",
     "output_type": "stream",
     "text": [
      "fps: 29.92\n",
      "nframes: 6185\n",
      "duration(s): 206.71\n"
     ]
    }
   ],
   "source": [
    "#Processing\n",
    "clip = VideoFileClip(source_path)\n",
    "print(f'fps:', clip.reader.fps) #frames per second\n",
    "print(f'nframes:', clip.reader.nframes)\n",
    "print(f'duration(s):', clip.duration) # seconds\n",
    "\n",
    "duration = clip.duration # outra forma: clip.reader.duration\n",
    "max_duration = int(duration)+1"
   ]
  },
  {
   "cell_type": "code",
   "execution_count": 19,
   "metadata": {},
   "outputs": [],
   "source": [
    "fps = clip.reader.fps\n",
    "nframe = clip.reader.nframes\n",
    "seconds = nframe/(fps * 1.0)"
   ]
  },
  {
   "cell_type": "markdown",
   "metadata": {},
   "source": [
    "### 1_Vid \n",
    "- ML (manual classification) - 1 frame per second"
   ]
  },
  {
   "cell_type": "code",
   "execution_count": 24,
   "metadata": {},
   "outputs": [],
   "source": [
    "# #frames to be trained - 1 per second\n",
    "\n",
    "name = file1[3:-4]\n",
    "for i in range(0, max_duration, 1): #1 frame sec\n",
    "    frame = clip.get_frame(i)\n",
    "    frame_dir = os.path.join(FRAME_DIR, f\"Train_{name}\")\n",
    "    os.makedirs(frame_dir, exist_ok=True)\n",
    "    i = int(i)\n",
    "    new_img_path = os.path.join(frame_dir, f\"{i}.jpg\") #nome do arquivo = ao segundo do frame\n",
    "    #print(f\"frame at {i} seconds, save at {new_img_path}\")\n",
    "    new_img = Image.fromarray(frame)\n",
    "    new_img.save(new_img_path)        "
   ]
  },
  {
   "cell_type": "code",
   "execution_count": 83,
   "metadata": {},
   "outputs": [],
   "source": [
    "# os.listdir(frame_dir)"
   ]
  },
  {
   "cell_type": "markdown",
   "metadata": {},
   "source": [
    "### Renaming files if necessary"
   ]
  },
  {
   "cell_type": "code",
   "execution_count": 37,
   "metadata": {},
   "outputs": [],
   "source": [
    "from natsort import os_sorted"
   ]
  },
  {
   "cell_type": "code",
   "execution_count": 30,
   "metadata": {},
   "outputs": [
    {
     "name": "stdout",
     "output_type": "stream",
     "text": [
      "/Users/dumoura/Dev/PDev/Mashup_Vid_Processing/data/sample/outputs/thumbnails/Train_CarpentersOasis\n"
     ]
    }
   ],
   "source": [
    "p = f'{FRAME_DIR}/Train_{name}'\n",
    "print(p)\n"
   ]
  },
  {
   "cell_type": "code",
   "execution_count": 31,
   "metadata": {},
   "outputs": [],
   "source": [
    "path = f'{FRAME_DIR}/Train_{name}'"
   ]
  },
  {
   "cell_type": "code",
   "execution_count": 41,
   "metadata": {},
   "outputs": [],
   "source": [
    "def rename_files(path, new_name, extension):\n",
    "    os.chdir(path)\n",
    "\n",
    "    for (i, filename) in enumerate(os_sorted(os.listdir(path))):\n",
    "        os.rename(src=filename, dst='{}{}{}'.format(new_name,i,extension))\n",
    "        print(filename)"
   ]
  },
  {
   "cell_type": "code",
   "execution_count": 113,
   "metadata": {},
   "outputs": [],
   "source": [
    "rename_files(f'{FRAME_DIR}/Train_{name}', '.jpg')"
   ]
  },
  {
   "cell_type": "markdown",
   "metadata": {},
   "source": [
    "### 2_Vid\n",
    "\n",
    "- ML (Decision Tree Classification)"
   ]
  },
  {
   "cell_type": "code",
   "execution_count": 52,
   "metadata": {},
   "outputs": [],
   "source": [
    "name = file1[3:-4]\n",
    "\n",
    "for i, frame in enumerate(clip.iter_frames()):\n",
    "    fphs = int((fps*0.4)/3)\n",
    "    if i % fphs == 0:\n",
    "        current_ms = int((i/fps)*1000)\n",
    "        new_frame_dir = os.path.join(FRAME_DIR, f\"{name}\")\n",
    "        os.makedirs(new_frame_dir, exist_ok=True)\n",
    "        new_img_filepath = os.path.join(new_frame_dir, f\"{name}{i}.jpg\")\n",
    "        new_img = Image.fromarray(frame)\n",
    "        new_img.save(new_img_filepath)  \n"
   ]
  },
  {
   "cell_type": "code",
   "execution_count": 50,
   "metadata": {},
   "outputs": [
    {
     "ename": "NameError",
     "evalue": "name 'jpg' is not defined",
     "output_type": "error",
     "traceback": [
      "\u001b[0;31m---------------------------------------------------------------------------\u001b[0m",
      "\u001b[0;31mNameError\u001b[0m                                 Traceback (most recent call last)",
      "\u001b[0;32m<ipython-input-50-5e1a2a082722>\u001b[0m in \u001b[0;36m<module>\u001b[0;34m\u001b[0m\n\u001b[0;32m----> 1\u001b[0;31m \u001b[0mrename_files\u001b[0m\u001b[0;34m(\u001b[0m\u001b[0;34mf'{FRAME_DIR}/{name}'\u001b[0m\u001b[0;34m,\u001b[0m\u001b[0;34m'000'\u001b[0m\u001b[0;34m,\u001b[0m \u001b[0mjpg\u001b[0m\u001b[0;34m)\u001b[0m\u001b[0;34m;\u001b[0m\u001b[0;34m\u001b[0m\u001b[0;34m\u001b[0m\u001b[0m\n\u001b[0m",
      "\u001b[0;31mNameError\u001b[0m: name 'jpg' is not defined"
     ]
    }
   ],
   "source": [
    "rename_files(f'{FRAME_DIR}/{name}','000', '.jpg');"
   ]
  },
  {
   "cell_type": "code",
   "execution_count": null,
   "metadata": {},
   "outputs": [],
   "source": []
  },
  {
   "cell_type": "code",
   "execution_count": null,
   "metadata": {},
   "outputs": [],
   "source": []
  }
 ],
 "metadata": {
  "kernelspec": {
   "display_name": "Python 3",
   "language": "python",
   "name": "python3"
  },
  "language_info": {
   "codemirror_mode": {
    "name": "ipython",
    "version": 3
   },
   "file_extension": ".py",
   "mimetype": "text/x-python",
   "name": "python",
   "nbconvert_exporter": "python",
   "pygments_lexer": "ipython3",
   "version": "3.8.5"
  }
 },
 "nbformat": 4,
 "nbformat_minor": 4
}
