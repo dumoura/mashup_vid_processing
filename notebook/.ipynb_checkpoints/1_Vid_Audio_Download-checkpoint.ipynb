{
 "cells": [
  {
   "cell_type": "markdown",
   "metadata": {},
   "source": [
    "# Setings\n",
    "\n",
    "Bibliotecas usadas:\n",
    "\n",
    "- datetime\n",
    "- pandas\n",
    "- matplotlib\n",
    "\n",
    "- sys\n",
    "- json\n",
    "- glob\n",
    "\n",
    "- webvtt\n",
    "\n",
    "Outros:\n",
    "\n",
    "- Youtube API (https://developers.google.com/youtube/v3)\n",
    "- Youtube-dl (https://youtube-dl.org/)"
   ]
  },
  {
   "cell_type": "markdown",
   "metadata": {},
   "source": [
    "## Configurações básicas \n",
    "\n",
    "- Bibliotecas usadas\n",
    "- Diretórios e locais de trabalho\n"
   ]
  },
  {
   "cell_type": "code",
   "execution_count": 1,
   "metadata": {},
   "outputs": [],
   "source": [
    "# Bibliotecas usadas\n",
    "\n",
    "import os\n",
    "import pandas as pd\n",
    "from matplotlib import pyplot as plt\n",
    "\n",
    "import sys\n",
    "import datetime\n",
    "import json\n",
    "import glob\n",
    "\n",
    "import webvtt\n",
    "from moviepy.editor import *\n",
    "from PIL import Image"
   ]
  },
  {
   "cell_type": "code",
   "execution_count": 2,
   "metadata": {},
   "outputs": [
    {
     "name": "stdout",
     "output_type": "stream",
     "text": [
      "/Users/dumoura/Dev/PDev/Mashup_Vid_Processing/notebook\n"
     ]
    }
   ],
   "source": [
    "# Diretórios e locais de trabalho\n",
    "## dirbase = os.chdir(\"\") incluir sua base de trabalho\n",
    "\n",
    "cwd = os.getcwd()\n",
    "print(cwd)"
   ]
  },
  {
   "cell_type": "code",
   "execution_count": 3,
   "metadata": {},
   "outputs": [],
   "source": [
    "#Base_dir\n",
    "BASE_DIR = os.path.dirname(cwd) # base de trabalho\n",
    "DATA_DIR = os.path.join(BASE_DIR, \"data\") # dados gerais levantados durante projeto\n",
    "META_DIR = os.path.join(BASE_DIR, \"metadados\") #metadados levantados durante projeto\n",
    "SAMPLE_DIR = os.path.join(DATA_DIR, \"sample\") # material em processo - pode ser apagado ao final, caso julgue necessário\n",
    "INPUTS_DIR = os.path.join(SAMPLE_DIR, \"inputs\") # local de trabalho para processamento de dados de midia \n",
    "OUTPUTS_DIR = os.path.join(SAMPLE_DIR, \"outputs\") # local de trabalho para processamento de dados de midia \n",
    "\n",
    "#MASHUPS\n",
    "VIDS_DIR = os.path.join(DATA_DIR, \"vids\") # dados gerais levantados durante projeto\n",
    "\n",
    "#Inputs\n",
    "VID_DIR = os.path.join(INPUTS_DIR, \"vid_input\") # local de trabalho para processamento de dados de midia \n",
    "AUDIO_DIR = os.path.join(INPUTS_DIR, \"audio_input\") # local de trabalho para processamento de dados de midia # # Criar diretórios e locais de trabalho\n",
    "LGG_DIR = os.path.join(INPUTS_DIR, \"lgg_input\") # local de trabalho para processamento de dados de midia \n",
    "\n",
    "#Outputs\n",
    "FRAME_DIR = os.path.join(OUTPUTS_DIR, \"thumbnails\") # local de trabalho para processamento de dados de midia \n",
    "SONG_DIR = os.path.join(OUTPUTS_DIR, \"songs\") # local de trabalho para processamento de dados de midia # # Criar diretórios e locais de trabalho\n",
    "LYRIC_DIR = os.path.join(OUTPUTS_DIR, \"lyrics\") # local de trabalho para processamento de dados de midia \n",
    "\n",
    "#Make_dirs\n",
    "os.makedirs(DATA_DIR, exist_ok=True)\n",
    "os.makedirs(META_DIR, exist_ok=True)\n",
    "os.makedirs(SAMPLE_DIR, exist_ok=True)\n",
    "os.makedirs(INPUTS_DIR, exist_ok=True)\n",
    "os.makedirs(OUTPUTS_DIR, exist_ok=True)\n",
    "\n",
    "#Make_vids\n",
    "os.makedirs(VIDS_DIR, exist_ok=True)\n",
    "\n",
    "##Make_dirs inputs\n",
    "os.makedirs(VID_DIR , exist_ok=True)\n",
    "os.makedirs(AUDIO_DIR, exist_ok=True)\n",
    "os.makedirs(LGG_DIR, exist_ok=True)\n",
    "\n",
    "##Make_dirs outputs\n",
    "os.makedirs(FRAME_DIR, exist_ok=True)\n",
    "os.makedirs(SONG_DIR, exist_ok=True)\n",
    "os.makedirs(LYRIC_DIR, exist_ok=True)"
   ]
  },
  {
   "cell_type": "code",
   "execution_count": 4,
   "metadata": {},
   "outputs": [],
   "source": [
    "# Verificar se os diretórios e locais de trabalho foram criados corretamente\n",
    "# os.listdir(BASE_DIR)"
   ]
  },
  {
   "cell_type": "code",
   "execution_count": 5,
   "metadata": {},
   "outputs": [],
   "source": [
    "# Definir contexto -período- de trabalho \n",
    "\n",
    "now = datetime.datetime.now()\n",
    "year = datetime.datetime.now().year\n",
    "day = datetime.datetime.now().day\n",
    "month = datetime.datetime.now().month\n",
    "\n",
    "# Usar contexto para nomear documentos\n",
    "\n",
    "context = f\"_{month}-{day}-{year}\""
   ]
  },
  {
   "cell_type": "code",
   "execution_count": 6,
   "metadata": {},
   "outputs": [],
   "source": [
    "#print(context) \"\"\"retirar comentário para ver resultado\"\"\""
   ]
  },
  {
   "cell_type": "markdown",
   "metadata": {},
   "source": [
    "## Vids_to_work"
   ]
  },
  {
   "cell_type": "code",
   "execution_count": 11,
   "metadata": {},
   "outputs": [
    {
     "data": {
      "text/plain": [
       "['24_B_WhiteStripes_Nirvana_DJBootOXs_Panicversion.mp4',\n",
       " '29_Beatles_Sublime_DJMagnet.mp4',\n",
       " '22_MichaelJa_JamesB_MadMixMustang.mp4',\n",
       " '24_A_WhiteStripes_Nirvana_DJBootOXs_Panicversion.mp4',\n",
       " '23_Alice Cooper_Earth_MadMixMustang.mp4',\n",
       " '21_Nelly_BeeGs_Lobsterdust.mp4',\n",
       " '30_RickAstley_Nirvana_Gazzisthecoolestman.mp4',\n",
       " '27_B_JohnnyCash_CypressHill_Frogthedag.mp4',\n",
       " '28_PetulaClark_Beatles_GoHomeProductions.mp4',\n",
       " '27_A_JohnnyCash_CypressHill_Frogthedag.mp4',\n",
       " '25_Queen_BlackSabbath_GoHomeProductions.mp4']"
      ]
     },
     "execution_count": 11,
     "metadata": {},
     "output_type": "execute_result"
    }
   ],
   "source": [
    "vid_list = os.listdir(VIDS_DIR)\n",
    "vid_list"
   ]
  },
  {
   "cell_type": "code",
   "execution_count": 13,
   "metadata": {},
   "outputs": [],
   "source": [
    "file1 = vid_list[0] #item\n",
    "file2 = f\"{VID_DIR}/sample.mp4\""
   ]
  },
  {
   "cell_type": "code",
   "execution_count": 14,
   "metadata": {},
   "outputs": [
    {
     "data": {
      "text/plain": [
       "0"
      ]
     },
     "execution_count": 14,
     "metadata": {},
     "output_type": "execute_result"
    }
   ],
   "source": [
    "os.chdir(VIDS_DIR)\n",
    "os.system(f\"cp {file1}\")\n",
    "os.system(f\"mv {file1} {file2}\")\n"
   ]
  },
  {
   "cell_type": "code",
   "execution_count": 19,
   "metadata": {},
   "outputs": [
    {
     "name": "stdout",
     "output_type": "stream",
     "text": [
      "B_WhiteStripes_Nirvana_DJBootOXs_Panicversion\n"
     ]
    }
   ],
   "source": [
    "name = file1[3:-4]\n",
    "print(name)"
   ]
  },
  {
   "cell_type": "code",
   "execution_count": 28,
   "metadata": {},
   "outputs": [],
   "source": [
    "##thumbnail_dir\n",
    "source_path = os.path.join(VID_DIR, \"sample.mp4\")"
   ]
  },
  {
   "cell_type": "code",
   "execution_count": 29,
   "metadata": {},
   "outputs": [
    {
     "name": "stdout",
     "output_type": "stream",
     "text": [
      "29.97002997002997\n",
      "7924\n",
      "264.38\n"
     ]
    }
   ],
   "source": [
    "#Processing\n",
    "clip = VideoFileClip(source_path)\n",
    "print(clip.reader.fps) #frames per second\n",
    "print(clip.reader.nframes)\n",
    "print(clip.duration) # seconds\n",
    "\n",
    "duration = clip.duration # outra forma: clip.reader.duration\n",
    "max_duration = int(duration)+1"
   ]
  },
  {
   "cell_type": "code",
   "execution_count": 30,
   "metadata": {},
   "outputs": [],
   "source": [
    "fps = clip.reader.fps\n",
    "nframe = clip.reader.nframes\n",
    "seconds = nframe/(fps * 1.0) #para não dar erro de aredondar *1.0"
   ]
  },
  {
   "cell_type": "code",
   "execution_count": 57,
   "metadata": {},
   "outputs": [],
   "source": [
    "# name = file1[5:-4]\n",
    "\n",
    "# for i in range(0, max_duration, 1): #1 frame sec\n",
    "#     frame = clip.get_frame(i)\n",
    "#     #print(frame) #np.array numpay aray infrances\n",
    "#     new_img_path = os.path.join(FRAME_DIR, f\"{i}-{name}.jpg\") #nome do arquivo = ao segundo do frame\n",
    "#     #print(f\"frame at {i} seconds, save at {new_img_path}\")\n",
    "#     new_img = Image.fromarray(frame)\n",
    "#     new_img.save(new_img_path)"
   ]
  },
  {
   "cell_type": "code",
   "execution_count": 39,
   "metadata": {},
   "outputs": [],
   "source": [
    "#frames 3 per second\n",
    "name = file1[3:-4]\n",
    "\n",
    "for i, frame in enumerate(clip.iter_frames()): \n",
    "    fphs = int(fps/3)\n",
    "    #print(frame) #np.array numpay aray infrances\n",
    "    if i % fphs == 0: # se i for divisivel por fps, ou seja, divisão que dá zero e, por tanto, é compativel com seegundos\n",
    "        current_ms = int((i/fps)*1000) #mudar para mileseconds\n",
    "        new_frame_dir = os.path.join(FRAME_DIR, f\"{name}\")\n",
    "        os.makedirs(new_frame_dir, exist_ok=True)\n",
    "        n +=1\n",
    "        new_img_filepath = os.path.join(new_frame_dir, f\"{n}-{name}.jpg\") #nome do arquivo = ao segundo do frame\n",
    "        #print(f\"frame at {i} seconds, save at {new_img_path}\")\n",
    "        new_img = Image.fromarray(frame)\n",
    "        new_img.save(new_img_filepath)  "
   ]
  },
  {
   "cell_type": "code",
   "execution_count": null,
   "metadata": {},
   "outputs": [],
   "source": []
  }
 ],
 "metadata": {
  "kernelspec": {
   "display_name": "Python 3",
   "language": "python",
   "name": "python3"
  },
  "language_info": {
   "codemirror_mode": {
    "name": "ipython",
    "version": 3
   },
   "file_extension": ".py",
   "mimetype": "text/x-python",
   "name": "python",
   "nbconvert_exporter": "python",
   "pygments_lexer": "ipython3",
   "version": "3.8.5"
  }
 },
 "nbformat": 4,
 "nbformat_minor": 4
}
