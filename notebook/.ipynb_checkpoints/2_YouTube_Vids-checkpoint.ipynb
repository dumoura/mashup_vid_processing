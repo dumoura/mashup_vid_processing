{
 "cells": [
  {
   "cell_type": "markdown",
   "metadata": {},
   "source": [
    "# Setings\n",
    "\n",
    "Bibliotecas usadas:\n",
    "\n",
    "- datetime\n",
    "- pandas\n",
    "- matplotlib\n",
    "\n",
    "- sys\n",
    "- json\n",
    "- glob\n",
    "\n",
    "- webvtt\n",
    "\n",
    "Outros:\n",
    "\n",
    "- Youtube API (https://developers.google.com/youtube/v3)\n",
    "- Youtube-dl (https://youtube-dl.org/)"
   ]
  },
  {
   "cell_type": "markdown",
   "metadata": {},
   "source": [
    "## Configurações básicas \n",
    "\n",
    "- Bibliotecas usadas\n",
    "- Diretórios e locais de trabalho\n"
   ]
  },
  {
   "cell_type": "code",
   "execution_count": 8,
   "metadata": {},
   "outputs": [],
   "source": [
    "# Bibliotecas usadas\n",
    "\n",
    "import os\n",
    "import pandas as pd\n",
    "from matplotlib import pyplot as plt\n",
    "\n",
    "import sys\n",
    "import datetime\n",
    "import json\n",
    "import glob\n",
    "\n",
    "import webvtt"
   ]
  },
  {
   "cell_type": "code",
   "execution_count": 9,
   "metadata": {},
   "outputs": [
    {
     "name": "stdout",
     "output_type": "stream",
     "text": [
      "/Users/dumoura/Dev/PDev/Mashup_Vid_Processing/notebook\n"
     ]
    }
   ],
   "source": [
    "# Diretórios e locais de trabalho\n",
    "## dirbase = os.chdir(\"\") incluir sua base de trabalho\n",
    "\n",
    "cwd = os.getcwd()\n",
    "print(cwd)"
   ]
  },
  {
   "cell_type": "code",
   "execution_count": 15,
   "metadata": {},
   "outputs": [],
   "source": [
    "#Base_dir\n",
    "BASE_DIR = os.path.dirname(cwd) # base de trabalho\n",
    "DATA_DIR = os.path.join(BASE_DIR, \"data\") # dados gerais levantados durante projeto\n",
    "META_DIR = os.path.join(BASE_DIR, \"metadados\") #metadados levantados durante projeto\n",
    "SAMPLE_DIR = os.path.join(DATA_DIR, \"sample\") # material em processo - pode ser apagado ao final, caso julgue necessário\n",
    "INPUTS_DIR = os.path.join(SAMPLE_DIR, \"inputs\") # local de trabalho para processamento de dados de midia \n",
    "OUTPUTS_DIR = os.path.join(SAMPLE_DIR, \"outputs\") # local de trabalho para processamento de dados de midia \n",
    "\n",
    "#Inputs\n",
    "VID_DIR = os.path.join(INPUTS_DIR, \"vid_input\") # local de trabalho para processamento de dados de midia \n",
    "AUDIO_DIR = os.path.join(INPUTS_DIR, \"audio_input\") # local de trabalho para processamento de dados de midia # # Criar diretórios e locais de trabalho\n",
    "LGG_DIR = os.path.join(INPUTS_DIR, \"lgg_input\") # local de trabalho para processamento de dados de midia \n",
    "\n",
    "#Outputs\n",
    "FRAME_DIR = os.path.join(OUTPUTS_DIR, \"thumbnails\") # local de trabalho para processamento de dados de midia \n",
    "SONG_DIR = os.path.join(OUTPUTS_DIR, \"songs\") # local de trabalho para processamento de dados de midia # # Criar diretórios e locais de trabalho\n",
    "LYRIC_DIR = os.path.join(OUTPUTS_DIR, \"lyrics\") # local de trabalho para processamento de dados de midia \n",
    "\n",
    "#Make_dirs\n",
    "os.makedirs(DATA_DIR, exist_ok=True)\n",
    "os.makedirs(META_DIR, exist_ok=True)\n",
    "os.makedirs(SAMPLE_DIR, exist_ok=True)\n",
    "os.makedirs(INPUTS_DIR, exist_ok=True)\n",
    "os.makedirs(OUTPUTS_DIR, exist_ok=True)\n",
    "\n",
    "##Make_dirs inputs\n",
    "os.makedirs(VID_DIR , exist_ok=True)\n",
    "os.makedirs(AUDIO_DIR, exist_ok=True)\n",
    "os.makedirs(LGG_DIR, exist_ok=True)\n",
    "\n",
    "##Make_dirs outputs\n",
    "os.makedirs(FRAME_DIR, exist_ok=True)\n",
    "os.makedirs(SONG_DIR, exist_ok=True)\n",
    "os.makedirs(LYRIC_DIR, exist_ok=True)"
   ]
  },
  {
   "cell_type": "code",
   "execution_count": 36,
   "metadata": {},
   "outputs": [],
   "source": [
    "# Verificar se os diretórios e locais de trabalho foram criados corretamente\n",
    "# os.listdir(BASE_DIR)"
   ]
  },
  {
   "cell_type": "code",
   "execution_count": 7,
   "metadata": {},
   "outputs": [],
   "source": [
    "# Definir contexto -período- de trabalho \n",
    "\n",
    "now = datetime.datetime.now()\n",
    "year = datetime.datetime.now().year\n",
    "day = datetime.datetime.now().day\n",
    "month = datetime.datetime.now().month\n",
    "\n",
    "# Usar contexto para nomear documentos\n",
    "\n",
    "context = f\"_{month}-{day}-{year}\""
   ]
  },
  {
   "cell_type": "code",
   "execution_count": 38,
   "metadata": {},
   "outputs": [],
   "source": [
    "#print(context) \"\"\"retirar comentário para ver resultado\"\"\""
   ]
  },
  {
   "cell_type": "markdown",
   "metadata": {},
   "source": [
    "## Configurar Youtube API"
   ]
  },
  {
   "cell_type": "code",
   "execution_count": 8,
   "metadata": {},
   "outputs": [],
   "source": [
    "# Configurar YouTube API\n",
    "\n",
    "api_key = \" \" # inserir aqui a sua chave - \"api key\"\n",
    "\n",
    "# Biblioteca \n",
    "from googleapiclient.discovery import build\n",
    "\n",
    "# Conf. básica\n",
    "youtube = build(\"youtube\", \"v3\", developerKey=api_key)"
   ]
  },
  {
   "cell_type": "markdown",
   "metadata": {},
   "source": [
    "### Pegar os dados básicos de Canal de YouTube\n",
    "\n",
    "- levantar links de todos os vídeos do canal\n",
    "- levantar dados e metadados de todos os vídeos do canal "
   ]
  },
  {
   "cell_type": "code",
   "execution_count": 9,
   "metadata": {},
   "outputs": [],
   "source": [
    "# Função selecionar - com base em id - todos os videos de um Canal do Youtube\n",
    "\n",
    "def get_channel_videos(channel_id):\n",
    "    \n",
    "    # get Uploads playlist id\n",
    "    \n",
    "    res = youtube.channels().list(id=channel_id, \n",
    "                                  part='contentDetails').execute()\n",
    "    playlist_id = res['items'][0]['contentDetails']['relatedPlaylists']['uploads']\n",
    "    \n",
    "    videos = []\n",
    "    next_page_token = None\n",
    "    \n",
    "    while 1:\n",
    "        res = youtube.playlistItems().list(playlistId=playlist_id, \n",
    "                                           part='snippet', \n",
    "                                           maxResults=50,\n",
    "                                           pageToken=next_page_token).execute()\n",
    "       \n",
    "        videos += res['items']\n",
    "        next_page_token = res.get('nextPageToken')\n",
    "        \n",
    "        if next_page_token is None:\n",
    "            break\n",
    "    \n",
    "    return videos"
   ]
  },
  {
   "cell_type": "code",
   "execution_count": 10,
   "metadata": {},
   "outputs": [],
   "source": [
    "# Informações do Canal - id do Canal \n",
    "\n",
    "id_canal = \"\" # Como encontrar id do canal? A forma mais fácil: 1. Selecionar qualquer vídeo do canal desejado.2.Clicar no logo/nome do canal abaixo do vídeo. 3. Selecionar a última parte do link do seu navegador. Exemplo: youtube.com/channel/UC8hGUtfEgvvnp6IaHSAg1OQ)\n",
    "ContentDetails = youtube.channels().list(id = id_canal, part = \"contentDetails\").execute() # Para saber mais: https://developers.google.com/youtube/v3/docs/search/list \n"
   ]
  },
  {
   "cell_type": "code",
   "execution_count": 11,
   "metadata": {},
   "outputs": [],
   "source": [
    "# \"Pegar\" informações básicas de todos os vídeos de um Canal do Youtube. No caso, de Jair Bolsonaro\n",
    "vids = get_channel_videos(id_canal)"
   ]
  },
  {
   "cell_type": "code",
   "execution_count": 43,
   "metadata": {},
   "outputs": [],
   "source": [
    "# Verificar no primeiro ítem[0] quais são os dados levantados\n",
    "\n",
    "#vids[0] \"\"\"retirar comentário para ver resultado\"\"\""
   ]
  },
  {
   "cell_type": "code",
   "execution_count": 12,
   "metadata": {},
   "outputs": [],
   "source": [
    "# Levantar dados e metadados de todos os vídeos do canal\n",
    "dados = []\n",
    "\n",
    "for i in vids:\n",
    "    ChannelTitle = i[\"snippet\"]['channelTitle']\n",
    "    PublishedAt = i[\"snippet\"]['publishedAt']\n",
    "    Title = i[\"snippet\"]['title']\n",
    "    Description = i[\"snippet\"]['description'] \n",
    "    Id = i['snippet']['resourceId']['videoId']\n",
    "    Link = \"https://www.youtube.com/watch?v=\" +i['snippet']['resourceId']['videoId']\n",
    "    dados.append((ChannelTitle, PublishedAt, Title, Description, Id, Link))\n",
    "\n",
    "dados = pd.DataFrame(dados, columns = ['ChannelTitle', 'PublishedAt','Title', 'Description', 'Id', 'Link'])"
   ]
  },
  {
   "cell_type": "code",
   "execution_count": 13,
   "metadata": {},
   "outputs": [],
   "source": [
    "# Salvar em um documento CSV\n",
    "name = \"\"\n",
    "title = f\"{META_DIR}/{name}{context}.csv\"\n",
    "dados.to_csv(f\"{title}\", index=False) "
   ]
  },
  {
   "cell_type": "markdown",
   "metadata": {},
   "source": [
    "### Verificar o corpus levantado - videos de um Canal do Youtube"
   ]
  },
  {
   "cell_type": "code",
   "execution_count": 7,
   "metadata": {},
   "outputs": [],
   "source": [
    "# Abrir documento - Pandas Data Frame (df)\n",
    "#df = pd.read_csv(f\"{title}\")"
   ]
  },
  {
   "cell_type": "code",
   "execution_count": 6,
   "metadata": {},
   "outputs": [],
   "source": [
    "# Qual o tamanho do documento - n. de itens?\n",
    "#len(df)"
   ]
  },
  {
   "cell_type": "code",
   "execution_count": 5,
   "metadata": {},
   "outputs": [],
   "source": [
    "# Quantas linhas e colunas o DataFrame tem?\n",
    "#df.shape"
   ]
  },
  {
   "cell_type": "code",
   "execution_count": 4,
   "metadata": {},
   "outputs": [],
   "source": [
    "# Quais são as categorias levantadas/obsevadas?\n",
    "#df.columns"
   ]
  },
  {
   "cell_type": "code",
   "execution_count": 3,
   "metadata": {},
   "outputs": [],
   "source": [
    "# Qual a quantidade de intens em cada uma das categorias obsevadas - colunas?\n",
    "#df.count()"
   ]
  },
  {
   "cell_type": "code",
   "execution_count": 1,
   "metadata": {},
   "outputs": [],
   "source": [
    "# Quais são os 5 'primeiros' itens do documento - Os vídeos publicados recentemente?\n",
    "#df.head(5)"
   ]
  },
  {
   "cell_type": "code",
   "execution_count": 2,
   "metadata": {
    "scrolled": true
   },
   "outputs": [],
   "source": [
    "# Quais são os 5 'últimos itens' do documento - Os primeiros vídeos publicados no canal?\n",
    "#df.tail(5)"
   ]
  }
 ],
 "metadata": {
  "kernelspec": {
   "display_name": "Python 3",
   "language": "python",
   "name": "python3"
  },
  "language_info": {
   "codemirror_mode": {
    "name": "ipython",
    "version": 3
   },
   "file_extension": ".py",
   "mimetype": "text/x-python",
   "name": "python",
   "nbconvert_exporter": "python",
   "pygments_lexer": "ipython3",
   "version": "3.8.5"
  }
 },
 "nbformat": 4,
 "nbformat_minor": 4
}
