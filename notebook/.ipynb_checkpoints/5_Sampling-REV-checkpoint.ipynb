{
 "cells": [
  {
   "cell_type": "markdown",
   "metadata": {},
   "source": [
    "Criar um vídeo com com fragmentos de fala baseado em uma item pesquisado previamente.\n",
    "No nosso caso, falas feitas em Live da Semana que promovem o uso de remédios e práticas que contribuem com a diceminação da pandemia e morte de brasileiros.\n",
    "\n",
    "As ações de criação do vídeo/remix serão:\n",
    "\n",
    "- Sampling\n",
    "- Remix\n",
    "\n",
    "Para sampling e remix usaremos documento criado em ítem 4_Subtilte\n",
    "Usaremos a biblioteca \"moviepy\" \n",
    "\n",
    "https://zulko.github.io/moviepy/index.html\n",
    "https://zulko.github.io/moviepy/getting_started/effects.html\n",
    "\n",
    "Iremos nos pautar nos dados levantados em ...\n",
    "- Valores de decupagem (star) e (end)\n",
    "- Texto (vídeo de origem - id do vídeo + decupagem)\n",
    "\n",
    "Outras ferramentas:\n",
    "\n",
    "Para o caso de haver legenda no documento em audio\n",
    "\n",
    "videogrep\n",
    "\n",
    "https://github.com/antiboredom/videogrep/\n",
    "https://zulko.github.io/moviepy/gallery.html\n",
    "https://zulko.github.io/blog/2014/06/21/some-more-videogreping-with-python/\n",
    "\n",
    "https://lav.io/2014/06/videogrep-automatic-supercuts-with-python/\n",
    "\n"
   ]
  },
  {
   "cell_type": "markdown",
   "metadata": {},
   "source": [
    "# Supercut Pacific War"
   ]
  },
  {
   "cell_type": "markdown",
   "metadata": {},
   "source": [
    "### Setings"
   ]
  },
  {
   "cell_type": "code",
   "execution_count": 27,
   "metadata": {},
   "outputs": [],
   "source": [
    "#!pip install ... \n",
    "\n",
    "import os\n",
    "import pandas as pd\n",
    "from matplotlib import pyplot as plt\n",
    "\n",
    "import sys\n",
    "import datetime\n",
    "import json\n",
    "import glob\n",
    "\n",
    "import webvtt\n",
    "from moviepy.editor import *\n",
    "\n",
    "# # Setings\n",
    "\n",
    "# from videogrep import videogre"
   ]
  },
  {
   "cell_type": "code",
   "execution_count": 28,
   "metadata": {},
   "outputs": [],
   "source": [
    "cwd = os.getcwd()"
   ]
  },
  {
   "cell_type": "code",
   "execution_count": 29,
   "metadata": {},
   "outputs": [
    {
     "name": "stdout",
     "output_type": "stream",
     "text": [
      "/Users/dumoura/Dev/PDev/PoliticalRemix/Lives_da_Semana/Notebook_English/PRV_Br\n"
     ]
    }
   ],
   "source": [
    "print(cwd)"
   ]
  },
  {
   "cell_type": "code",
   "execution_count": 30,
   "metadata": {},
   "outputs": [],
   "source": [
    "# set directory and file\n",
    "BASE_DIR = os.path.dirname(cwd) # project base"
   ]
  },
  {
   "cell_type": "code",
   "execution_count": 31,
   "metadata": {},
   "outputs": [],
   "source": [
    "DATA_DIR = os.path.join(BASE_DIR, \"data\") \n",
    "MEDIA_DATA_DIR = os.path.join(BASE_DIR, \"media_data\") \n",
    "CACHE_DIR = os.path.join(MEDIA_DATA_DIR, \"cache\") \n",
    "INPUT_DIR = os.path.join(MEDIA_DATA_DIR, \"inputs\")\n",
    "OUTPUT_DIR = os.path.join(MEDIA_DATA_DIR, \"outputs\")"
   ]
  },
  {
   "cell_type": "code",
   "execution_count": 32,
   "metadata": {},
   "outputs": [],
   "source": [
    "os.makedirs(MEDIA_DATA_DIR, exist_ok=True)\n",
    "os.makedirs(CACHE_DIR, exist_ok=True)\n",
    "os.makedirs(INPUT_DIR, exist_ok=True)\n",
    "os.makedirs(OUTPUT_DIR, exist_ok=True)"
   ]
  },
  {
   "cell_type": "code",
   "execution_count": 7,
   "metadata": {},
   "outputs": [],
   "source": [
    "#context\n",
    "now = datetime.datetime.now()\n",
    "year = datetime.datetime.now().year\n",
    "day = datetime.datetime.now().day\n",
    "month = datetime.datetime.now().month\n",
    "\n",
    "context = f\"_{month}-{day}-{year}\""
   ]
  },
  {
   "cell_type": "markdown",
   "metadata": {},
   "source": [
    "### Inputs"
   ]
  },
  {
   "cell_type": "code",
   "execution_count": 33,
   "metadata": {},
   "outputs": [],
   "source": [
    "title = \"LivesBolsonaro_CloroquinaIvermectin_2-17-2021.csv\"\n",
    "\n",
    "df = pd.read_csv(f\"{DATA_DIR}/{title}\")\n",
    "df = df.loc[:, ~df.columns.str.contains('^Unnamed')]"
   ]
  },
  {
   "cell_type": "code",
   "execution_count": 10,
   "metadata": {},
   "outputs": [],
   "source": [
    "link_vid = df.video_link.unique()\n",
    "link_vid = pd.DataFrame((link_vid))\n",
    "link_vid.to_csv(f\"{INPUT_DIR}/CloroquinaIvermectin.csv\", index=False, header=None)"
   ]
  },
  {
   "cell_type": "markdown",
   "metadata": {},
   "source": [
    "### Fazer download de cada vídeo em live da semana"
   ]
  },
  {
   "cell_type": "code",
   "execution_count": 36,
   "metadata": {},
   "outputs": [
    {
     "name": "stdout",
     "output_type": "stream",
     "text": [
      "/Users/dumoura/Dev/PDev/PoliticalRemix/Lives_da_Semana/Notebook_English/media_data/inputs\n"
     ]
    }
   ],
   "source": [
    "os.chdir(f\"{INPUT_DIR}\")\n",
    "print(os.getcwd())"
   ]
  },
  {
   "cell_type": "code",
   "execution_count": 12,
   "metadata": {},
   "outputs": [
    {
     "data": {
      "text/plain": [
       "256"
      ]
     },
     "execution_count": 12,
     "metadata": {},
     "output_type": "execute_result"
    }
   ],
   "source": [
    "# youtube-dl: para cada link em um arquivo [df] baixar o melhor formato de legenda automática em português [--write-auto-sub  --sub-format best], converter para vtt[--convert-subs vtt], não baixar os vídeos em si [--skip-download], ignorar erros [-i], salvar os arquivos e nomeá-los com o id do vídeo [--id]\n",
    "\n",
    "doc = \"CloroquinaIvermectin.csv\"\n",
    "os.system(f\"youtube-dl -a {doc} -f mp4 -i --id\")"
   ]
  },
  {
   "cell_type": "code",
   "execution_count": 26,
   "metadata": {},
   "outputs": [
    {
     "name": "stdout",
     "output_type": "stream",
     "text": [
      "/Users/dumoura/Dev/PDev/PoliticalRemix/Lives_da_Semana/Notebook_English/PRV_Br\n"
     ]
    }
   ],
   "source": [
    "os.chdir(\"/Users/dumoura/Dev/PDev/PoliticalRemix/Lives_da_Semana/Notebook_English/PRV_Br\")\n",
    "print(os.getcwd())"
   ]
  },
  {
   "cell_type": "code",
   "execution_count": 34,
   "metadata": {},
   "outputs": [
    {
     "data": {
      "text/html": [
       "<div>\n",
       "<style scoped>\n",
       "    .dataframe tbody tr th:only-of-type {\n",
       "        vertical-align: middle;\n",
       "    }\n",
       "\n",
       "    .dataframe tbody tr th {\n",
       "        vertical-align: top;\n",
       "    }\n",
       "\n",
       "    .dataframe thead th {\n",
       "        text-align: right;\n",
       "    }\n",
       "</style>\n",
       "<table border=\"1\" class=\"dataframe\">\n",
       "  <thead>\n",
       "    <tr style=\"text-align: right;\">\n",
       "      <th></th>\n",
       "      <th>start</th>\n",
       "      <th>end</th>\n",
       "      <th>text</th>\n",
       "      <th>video_id</th>\n",
       "      <th>video_link</th>\n",
       "    </tr>\n",
       "  </thead>\n",
       "  <tbody>\n",
       "    <tr>\n",
       "      <th>0</th>\n",
       "      <td>00:10:17.150</td>\n",
       "      <td>00:10:26.580</td>\n",
       "      <td>some lines are for him to this train here, hy...</td>\n",
       "      <td>2tB4XLKXSeI</td>\n",
       "      <td>https://www.youtube.com/watch?v=2tB4XLKXSeI</td>\n",
       "    </tr>\n",
       "    <tr>\n",
       "      <th>1</th>\n",
       "      <td>01:17:53.490</td>\n",
       "      <td>01:17:59.790</td>\n",
       "      <td>respective chief of the executive banned hydr...</td>\n",
       "      <td>Un8SXCrtzj8</td>\n",
       "      <td>https://www.youtube.com/watch?v=Un8SXCrtzj8</td>\n",
       "    </tr>\n",
       "    <tr>\n",
       "      <th>2</th>\n",
       "      <td>00:13:43.089</td>\n",
       "      <td>00:13:50.800</td>\n",
       "      <td>closure right the question of the famous hydr...</td>\n",
       "      <td>F9jXlF2ExQE</td>\n",
       "      <td>https://www.youtube.com/watch?v=F9jXlF2ExQE</td>\n",
       "    </tr>\n",
       "    <tr>\n",
       "      <th>3</th>\n",
       "      <td>00:14:01.720</td>\n",
       "      <td>00:14:07.940</td>\n",
       "      <td>dailson hydroxychloroquine and other authorit...</td>\n",
       "      <td>F9jXlF2ExQE</td>\n",
       "      <td>https://www.youtube.com/watch?v=F9jXlF2ExQE</td>\n",
       "    </tr>\n",
       "    <tr>\n",
       "      <th>4</th>\n",
       "      <td>00:14:44.470</td>\n",
       "      <td>00:14:49.060</td>\n",
       "      <td>and is to produce hydroxychloroquine is we ha...</td>\n",
       "      <td>F9jXlF2ExQE</td>\n",
       "      <td>https://www.youtube.com/watch?v=F9jXlF2ExQE</td>\n",
       "    </tr>\n",
       "    <tr>\n",
       "      <th>...</th>\n",
       "      <td>...</td>\n",
       "      <td>...</td>\n",
       "      <td>...</td>\n",
       "      <td>...</td>\n",
       "      <td>...</td>\n",
       "    </tr>\n",
       "    <tr>\n",
       "      <th>73</th>\n",
       "      <td>00:05:23.639</td>\n",
       "      <td>00:05:30.750</td>\n",
       "      <td>recommendation that hydroxychloroquine is rel...</td>\n",
       "      <td>CaTtyaM5Jlw</td>\n",
       "      <td>https://www.youtube.com/watch?v=CaTtyaM5Jlw</td>\n",
       "    </tr>\n",
       "    <tr>\n",
       "      <th>74</th>\n",
       "      <td>00:06:31.330</td>\n",
       "      <td>00:06:37.810</td>\n",
       "      <td>do against a poor person does not have access...</td>\n",
       "      <td>CaTtyaM5Jlw</td>\n",
       "      <td>https://www.youtube.com/watch?v=CaTtyaM5Jlw</td>\n",
       "    </tr>\n",
       "    <tr>\n",
       "      <th>75</th>\n",
       "      <td>00:06:37.810</td>\n",
       "      <td>00:06:46.330</td>\n",
       "      <td>what can happen is the pharmacy’s gone the hy...</td>\n",
       "      <td>CaTtyaM5Jlw</td>\n",
       "      <td>https://www.youtube.com/watch?v=CaTtyaM5Jlw</td>\n",
       "    </tr>\n",
       "    <tr>\n",
       "      <th>76</th>\n",
       "      <td>00:40:05.770</td>\n",
       "      <td>00:40:12.320</td>\n",
       "      <td>rest right our life rest now if you have hydr...</td>\n",
       "      <td>CaTtyaM5Jlw</td>\n",
       "      <td>https://www.youtube.com/watch?v=CaTtyaM5Jlw</td>\n",
       "    </tr>\n",
       "    <tr>\n",
       "      <th>77</th>\n",
       "      <td>00:40:17.300</td>\n",
       "      <td>00:40:24.770</td>\n",
       "      <td>there he and take the hydroxychloroquine i wi...</td>\n",
       "      <td>CaTtyaM5Jlw</td>\n",
       "      <td>https://www.youtube.com/watch?v=CaTtyaM5Jlw</td>\n",
       "    </tr>\n",
       "  </tbody>\n",
       "</table>\n",
       "<p>78 rows × 5 columns</p>\n",
       "</div>"
      ],
      "text/plain": [
       "           start           end  \\\n",
       "0   00:10:17.150  00:10:26.580   \n",
       "1   01:17:53.490  01:17:59.790   \n",
       "2   00:13:43.089  00:13:50.800   \n",
       "3   00:14:01.720  00:14:07.940   \n",
       "4   00:14:44.470  00:14:49.060   \n",
       "..           ...           ...   \n",
       "73  00:05:23.639  00:05:30.750   \n",
       "74  00:06:31.330  00:06:37.810   \n",
       "75  00:06:37.810  00:06:46.330   \n",
       "76  00:40:05.770  00:40:12.320   \n",
       "77  00:40:17.300  00:40:24.770   \n",
       "\n",
       "                                                 text     video_id  \\\n",
       "0    some lines are for him to this train here, hy...  2tB4XLKXSeI   \n",
       "1    respective chief of the executive banned hydr...  Un8SXCrtzj8   \n",
       "2    closure right the question of the famous hydr...  F9jXlF2ExQE   \n",
       "3    dailson hydroxychloroquine and other authorit...  F9jXlF2ExQE   \n",
       "4    and is to produce hydroxychloroquine is we ha...  F9jXlF2ExQE   \n",
       "..                                                ...          ...   \n",
       "73   recommendation that hydroxychloroquine is rel...  CaTtyaM5Jlw   \n",
       "74   do against a poor person does not have access...  CaTtyaM5Jlw   \n",
       "75   what can happen is the pharmacy’s gone the hy...  CaTtyaM5Jlw   \n",
       "76   rest right our life rest now if you have hydr...  CaTtyaM5Jlw   \n",
       "77   there he and take the hydroxychloroquine i wi...  CaTtyaM5Jlw   \n",
       "\n",
       "                                     video_link  \n",
       "0   https://www.youtube.com/watch?v=2tB4XLKXSeI  \n",
       "1   https://www.youtube.com/watch?v=Un8SXCrtzj8  \n",
       "2   https://www.youtube.com/watch?v=F9jXlF2ExQE  \n",
       "3   https://www.youtube.com/watch?v=F9jXlF2ExQE  \n",
       "4   https://www.youtube.com/watch?v=F9jXlF2ExQE  \n",
       "..                                          ...  \n",
       "73  https://www.youtube.com/watch?v=CaTtyaM5Jlw  \n",
       "74  https://www.youtube.com/watch?v=CaTtyaM5Jlw  \n",
       "75  https://www.youtube.com/watch?v=CaTtyaM5Jlw  \n",
       "76  https://www.youtube.com/watch?v=CaTtyaM5Jlw  \n",
       "77  https://www.youtube.com/watch?v=CaTtyaM5Jlw  \n",
       "\n",
       "[78 rows x 5 columns]"
      ]
     },
     "execution_count": 34,
     "metadata": {},
     "output_type": "execute_result"
    }
   ],
   "source": [
    "df"
   ]
  },
  {
   "cell_type": "code",
   "execution_count": 40,
   "metadata": {},
   "outputs": [
    {
     "name": "stdout",
     "output_type": "stream",
     "text": [
      "00:10:17.150 00:10:26.580 2tB4XLKXSeI\n",
      "01:17:53.490 01:17:59.790 Un8SXCrtzj8\n",
      "00:13:43.089 00:13:50.800 F9jXlF2ExQE\n",
      "00:14:01.720 00:14:07.940 F9jXlF2ExQE\n",
      "00:14:44.470 00:14:49.060 F9jXlF2ExQE\n",
      "00:15:19.760 00:15:27.950 F9jXlF2ExQE\n",
      "00:17:56.080 00:18:02.789 F9jXlF2ExQE\n",
      "00:19:47.120 00:19:52.929 F9jXlF2ExQE\n",
      "00:04:49.660 00:04:53.770 rSO0DszwUbA\n",
      "00:05:31.300 00:05:36.100 rSO0DszwUbA\n",
      "00:06:25.310 00:06:29.270 rSO0DszwUbA\n",
      "00:06:55.300 00:07:00.610 rSO0DszwUbA\n",
      "00:08:08.569 00:08:12.409 rSO0DszwUbA\n",
      "00:00:35.170 00:00:41.949 4p9fOptKBPc\n",
      "00:42:45.490 00:42:52.660 4p9fOptKBPc\n",
      "00:08:43.080 00:08:49.410 Lj5W5YrCLCk\n",
      "00:09:15.089 00:09:20.889 WLd2HmL3Ua0\n",
      "00:24:43.230 00:24:47.610 WLd2HmL3Ua0\n",
      "00:25:15.130 00:25:20.779 WLd2HmL3Ua0\n",
      "00:26:26.030 00:26:31.940 WLd2HmL3Ua0\n",
      "00:26:01.970 00:26:06.500 iA8m_uNrukw\n",
      "00:27:54.049 00:27:59.809 iA8m_uNrukw\n",
      "00:11:56.819 00:12:02.819 Ea5ZK0Fr5TM\n",
      "00:14:49.680 00:14:54.720 Ea5ZK0Fr5TM\n",
      "00:32:12.130 00:32:19.340 Ea5ZK0Fr5TM\n",
      "00:33:19.320 00:33:24.840 Ea5ZK0Fr5TM\n",
      "00:47:37.950 00:47:43.349 Ea5ZK0Fr5TM\n",
      "00:03:54.200 00:04:01.250 YCliiy_yl9Y\n",
      "00:04:42.310 00:04:48.160 YCliiy_yl9Y\n",
      "00:09:58.820 00:10:03.970 YCliiy_yl9Y\n",
      "00:50:24.340 00:50:31.780 OXvxplVfihY\n",
      "00:52:30.319 00:52:35.239 OXvxplVfihY\n",
      "00:52:57.709 00:53:02.689 OXvxplVfihY\n",
      "00:17:32.130 00:17:37.370 ZZj93uz78NE\n",
      "00:17:37.370 00:17:44.480 ZZj93uz78NE\n",
      "00:15:10.990 00:15:16.960 AhySjAMku18\n",
      "00:15:52.490 00:15:57.529 AhySjAMku18\n",
      "00:42:34.470 00:42:38.310 GVzh8k6YjKU\n",
      "00:18:04.610 00:18:10.950 S28DvOuB6cM\n",
      "00:18:19.749 00:18:26.590 S28DvOuB6cM\n",
      "00:48:19.309 00:48:26.579 ZSiTT1Mlxek\n",
      "00:17:24.959 00:17:30.150 5wTrE6F5jlc\n",
      "00:23:16.520 00:23:20.600 5wTrE6F5jlc\n",
      "00:05:04.680 00:05:09.240 UqEQfL6il8M\n",
      "00:05:40.759 00:05:44.659 oVIJD_tuRPY\n",
      "00:07:54.610 00:08:00.279 oVIJD_tuRPY\n",
      "00:05:16.600 00:05:20.740 07MDmr5LoRE\n",
      "00:05:25.289 00:05:29.400 07MDmr5LoRE\n",
      "00:05:42.659 00:05:48.449 07MDmr5LoRE\n",
      "00:14:03.069 00:14:08.510 07MDmr5LoRE\n",
      "00:16:46.500 00:16:52.050 07MDmr5LoRE\n",
      "00:17:29.110 00:17:36.610 07MDmr5LoRE\n",
      "00:18:45.059 00:18:51.960 07MDmr5LoRE\n",
      "00:19:03.289 00:19:11.809 07MDmr5LoRE\n",
      "00:20:05.529 00:20:10.299 07MDmr5LoRE\n",
      "00:20:26.000 00:20:29.820 07MDmr5LoRE\n",
      "00:20:39.150 00:20:44.940 07MDmr5LoRE\n",
      "00:20:44.940 00:20:49.290 07MDmr5LoRE\n",
      "00:20:49.290 00:20:54.780 07MDmr5LoRE\n",
      "00:22:04.830 00:22:09.890 07MDmr5LoRE\n",
      "00:22:09.890 00:22:16.160 07MDmr5LoRE\n",
      "00:22:29.620 00:22:35.110 07MDmr5LoRE\n",
      "00:23:00.630 00:23:06.960 07MDmr5LoRE\n",
      "00:39:05.250 00:39:10.200 07MDmr5LoRE\n",
      "00:40:37.219 00:40:44.119 07MDmr5LoRE\n",
      "00:45:34.760 00:45:38.650 07MDmr5LoRE\n",
      "01:13:56.270 01:13:58.790 07MDmr5LoRE\n",
      "00:04:20.829 00:04:26.710 SFLD7xpDmuY\n",
      "00:00:54.300 00:00:59.280 1sWkcMxBIO4\n",
      "00:04:04.140 00:04:12.439 CaTtyaM5Jlw\n",
      "00:04:27.470 00:04:33.650 CaTtyaM5Jlw\n",
      "00:04:38.260 00:04:45.550 CaTtyaM5Jlw\n",
      "00:04:45.550 00:04:52.900 CaTtyaM5Jlw\n",
      "00:05:23.639 00:05:30.750 CaTtyaM5Jlw\n",
      "00:06:31.330 00:06:37.810 CaTtyaM5Jlw\n",
      "00:06:37.810 00:06:46.330 CaTtyaM5Jlw\n",
      "00:40:05.770 00:40:12.320 CaTtyaM5Jlw\n",
      "00:40:17.300 00:40:24.770 CaTtyaM5Jlw\n"
     ]
    }
   ],
   "source": [
    "for i in range(len(df)) : \n",
    "    start = df.iloc[i, 0]\n",
    "    end = df.iloc[i, 1]\n",
    "    vid  = df.iloc[i, 3]\n",
    "    print(start,end,vid)"
   ]
  },
  {
   "cell_type": "code",
   "execution_count": 52,
   "metadata": {},
   "outputs": [
    {
     "ename": "TypeError",
     "evalue": "enumerate() takes at most 2 arguments (5 given)",
     "output_type": "error",
     "traceback": [
      "\u001b[0;31m---------------------------------------------------------------------------\u001b[0m",
      "\u001b[0;31mTypeError\u001b[0m                                 Traceback (most recent call last)",
      "\u001b[0;32m<ipython-input-52-78f737b00b24>\u001b[0m in \u001b[0;36m<module>\u001b[0;34m\u001b[0m\n\u001b[1;32m     14\u001b[0m \u001b[0;34m\u001b[0m\u001b[0m\n\u001b[1;32m     15\u001b[0m     \u001b[0mfinal\u001b[0m \u001b[0;34m=\u001b[0m \u001b[0mCompositeVideoClip\u001b[0m\u001b[0;34m(\u001b[0m\u001b[0;34m[\u001b[0m\u001b[0mclip\u001b[0m\u001b[0;34m,\u001b[0m \u001b[0mtxt_vidID\u001b[0m\u001b[0;34m,\u001b[0m \u001b[0mtxt_timecode\u001b[0m\u001b[0;34m]\u001b[0m\u001b[0;34m)\u001b[0m\u001b[0;34m\u001b[0m\u001b[0;34m\u001b[0m\u001b[0m\n\u001b[0;32m---> 16\u001b[0;31m     \u001b[0mfinal\u001b[0m\u001b[0;34m.\u001b[0m\u001b[0mwrite_videofile\u001b[0m\u001b[0;34m(\u001b[0m\u001b[0menumerate\u001b[0m\u001b[0;34m(\u001b[0m\u001b[0;34mf\"{CACHE_DIR}/{vid}.mp4\"\u001b[0m\u001b[0;34m,\u001b[0m \u001b[0mcodec\u001b[0m\u001b[0;34m=\u001b[0m\u001b[0;34m\"libx264\"\u001b[0m\u001b[0;34m,\u001b[0m \u001b[0maudio_codec\u001b[0m\u001b[0;34m=\u001b[0m\u001b[0;34m\"aac\"\u001b[0m\u001b[0;34m,\u001b[0m \u001b[0mremove_temp\u001b[0m\u001b[0;34m=\u001b[0m\u001b[0;32mTrue\u001b[0m\u001b[0;34m,\u001b[0m \u001b[0mfps\u001b[0m\u001b[0;34m=\u001b[0m\u001b[0;36m25\u001b[0m\u001b[0;34m)\u001b[0m\u001b[0;34m)\u001b[0m\u001b[0;34m\u001b[0m\u001b[0;34m\u001b[0m\u001b[0m\n\u001b[0m",
      "\u001b[0;31mTypeError\u001b[0m: enumerate() takes at most 2 arguments (5 given)"
     ]
    }
   ],
   "source": [
    "#Sampling video \n",
    "\n",
    "for i in range(len(df)) : \n",
    "    start = df.iloc[i, 0]\n",
    "    end = df.iloc[i, 1]\n",
    "    vid  = df.iloc[i, 3]\n",
    "    \n",
    "    clip = VideoFileClip(f\"{INPUT_DIR}/{vid}.mp4\", audio=True, target_resolution=None, resize_algorithm='bicubic').subclip(t_start = start, t_end=end)\n",
    "    txt_vidID = TextClip(f\"\\n VideoId: {vid} \\n\", font=\"Futura\", color='lightgrey', fontsize=12).set_pos((\"left\" , \"top\"))\n",
    "    txt_timecode = TextClip(f\"\\n {start} - {end } \\n\", font=\"Futura\", color='white', fontsize=12).set_pos((\"right\" , \"top\"))\n",
    "    \n",
    "    txt_vidID =   txt_vidID .set_duration(2.5)\n",
    "    txt_timecode =  txt_timecode.set_duration(2.5)\n",
    "    \n",
    "    final = CompositeVideoClip([clip, txt_vidID, txt_timecode])\n",
    "    final.write_videofile(f\"{CACHE_DIR}/{vid}.mp4\", codec=\"libx264\", audio_codec=\"aac\", remove_temp=True, fps=25)"
   ]
  },
  {
   "cell_type": "markdown",
   "metadata": {},
   "source": [
    "### Mixing"
   ]
  },
  {
   "cell_type": "code",
   "execution_count": 49,
   "metadata": {},
   "outputs": [
    {
     "name": "stdout",
     "output_type": "stream",
     "text": [
      "oVIJD_tuRPY\n",
      "F9jXlF2ExQE\n",
      "SFLD7xpDmuY\n",
      "Lj5W5YrCLCk\n",
      "Ea5ZK0Fr5TM\n",
      "ZSiTT1Mlxek\n",
      "YCliiy_yl9Y\n",
      "iA8m_uNrukw\n",
      "WLd2HmL3Ua0\n",
      "GVzh8k6YjKU\n",
      "07MDmr5LoRE\n",
      "Un8SXCrtzj8\n",
      "S28DvOuB6cM\n",
      "4p9fOptKBPc\n",
      "1sWkcMxBIO4\n",
      "5wTrE6F5jlc\n",
      "2tB4XLKXSeI\n",
      "CaTtyaM5Jlw\n",
      "UqEQfL6il8M\n",
      "OXvxplVfihY\n",
      "ZZj93uz78NE\n",
      "rSO0DszwUbA\n",
      "AhySjAMku18\n"
     ]
    }
   ],
   "source": [
    "\n",
    "vtt_dir = CACHE_DIR\n",
    "vtt_root = os.path.join(vtt_dir, \"*.mp4\")\n",
    "file_list = glob.glob(vtt_root)\n",
    "\n",
    "clips = []\n",
    "\n",
    "for vid_doc in file_list:\n",
    "    vide_doc = vid_doc[-15:-4]\n",
    "    clip = VideoFileClip(f\"{CACHE_DIR}/{vide_doc}.mp4\", audio=True)\n",
    "    clips.append((clip))"
   ]
  },
  {
   "cell_type": "code",
   "execution_count": 51,
   "metadata": {},
   "outputs": [
    {
     "ename": "ValueError",
     "evalue": "max() arg is an empty sequence",
     "output_type": "error",
     "traceback": [
      "\u001b[0;31m---------------------------------------------------------------------------\u001b[0m",
      "\u001b[0;31mValueError\u001b[0m                                Traceback (most recent call last)",
      "\u001b[0;32m<ipython-input-51-6c8c4c24f26a>\u001b[0m in \u001b[0;36m<module>\u001b[0;34m\u001b[0m\n\u001b[1;32m      2\u001b[0m \u001b[0;31m#save\u001b[0m\u001b[0;34m\u001b[0m\u001b[0;34m\u001b[0m\u001b[0;34m\u001b[0m\u001b[0m\n\u001b[1;32m      3\u001b[0m \u001b[0;34m\u001b[0m\u001b[0m\n\u001b[0;32m----> 4\u001b[0;31m \u001b[0mfinal\u001b[0m \u001b[0;34m=\u001b[0m \u001b[0mconcatenate\u001b[0m\u001b[0;34m(\u001b[0m\u001b[0mclips\u001b[0m\u001b[0;34m,\u001b[0m \u001b[0mmethod\u001b[0m\u001b[0;34m=\u001b[0m\u001b[0;34m\"compose\"\u001b[0m\u001b[0;34m,\u001b[0m \u001b[0mpadding\u001b[0m\u001b[0;34m=\u001b[0m\u001b[0;34m-\u001b[0m\u001b[0;36m0.2\u001b[0m\u001b[0;34m,\u001b[0m \u001b[0mbg_color\u001b[0m\u001b[0;34m=\u001b[0m\u001b[0;34m(\u001b[0m\u001b[0;36m255\u001b[0m\u001b[0;34m,\u001b[0m\u001b[0;36m255\u001b[0m\u001b[0;34m,\u001b[0m\u001b[0;36m255\u001b[0m\u001b[0;34m)\u001b[0m\u001b[0;34m)\u001b[0m\u001b[0;31m#CompositeVideoClip concatenate_videoclips\u001b[0m\u001b[0;34m\u001b[0m\u001b[0;34m\u001b[0m\u001b[0m\n\u001b[0m\u001b[1;32m      5\u001b[0m \u001b[0mfinal\u001b[0m\u001b[0;34m.\u001b[0m\u001b[0mwrite_videofile\u001b[0m\u001b[0;34m(\u001b[0m\u001b[0menumerate\u001b[0m\u001b[0;34m(\u001b[0m\u001b[0;34mf\"{OUTPUT_DIR}/CloroquinaIvermectin.mp4\"\u001b[0m\u001b[0;34m,\u001b[0m \u001b[0mfps\u001b[0m\u001b[0;34m=\u001b[0m\u001b[0;36m25\u001b[0m\u001b[0;34m,\u001b[0m \u001b[0mcodec\u001b[0m\u001b[0;34m=\u001b[0m\u001b[0;34m'libx264'\u001b[0m\u001b[0;34m,\u001b[0m \u001b[0maudio_codec\u001b[0m\u001b[0;34m=\u001b[0m\u001b[0;34m\"aac\"\u001b[0m\u001b[0;34m)\u001b[0m\u001b[0;34m)\u001b[0m\u001b[0;34m\u001b[0m\u001b[0;34m\u001b[0m\u001b[0m\n",
      "\u001b[0;32m~/opt/anaconda3/lib/python3.8/site-packages/moviepy/tools.py\u001b[0m in \u001b[0;36mfdepr\u001b[0;34m(*a, **kw)\u001b[0m\n\u001b[1;32m    135\u001b[0m     \u001b[0;32mdef\u001b[0m \u001b[0mfdepr\u001b[0m\u001b[0;34m(\u001b[0m\u001b[0;34m*\u001b[0m\u001b[0ma\u001b[0m\u001b[0;34m,\u001b[0m \u001b[0;34m**\u001b[0m\u001b[0mkw\u001b[0m\u001b[0;34m)\u001b[0m\u001b[0;34m:\u001b[0m\u001b[0;34m\u001b[0m\u001b[0;34m\u001b[0m\u001b[0m\n\u001b[1;32m    136\u001b[0m         \u001b[0mwarnings\u001b[0m\u001b[0;34m.\u001b[0m\u001b[0mwarn\u001b[0m\u001b[0;34m(\u001b[0m\u001b[0;34m\"MoviePy: \"\u001b[0m \u001b[0;34m+\u001b[0m \u001b[0mwarning\u001b[0m\u001b[0;34m,\u001b[0m \u001b[0mPendingDeprecationWarning\u001b[0m\u001b[0;34m)\u001b[0m\u001b[0;34m\u001b[0m\u001b[0;34m\u001b[0m\u001b[0m\n\u001b[0;32m--> 137\u001b[0;31m         \u001b[0;32mreturn\u001b[0m \u001b[0mf\u001b[0m\u001b[0;34m(\u001b[0m\u001b[0;34m*\u001b[0m\u001b[0ma\u001b[0m\u001b[0;34m,\u001b[0m \u001b[0;34m**\u001b[0m\u001b[0mkw\u001b[0m\u001b[0;34m)\u001b[0m\u001b[0;34m\u001b[0m\u001b[0;34m\u001b[0m\u001b[0m\n\u001b[0m\u001b[1;32m    138\u001b[0m     \u001b[0mfdepr\u001b[0m\u001b[0;34m.\u001b[0m\u001b[0m__doc__\u001b[0m \u001b[0;34m=\u001b[0m \u001b[0mwarning\u001b[0m\u001b[0;34m\u001b[0m\u001b[0;34m\u001b[0m\u001b[0m\n\u001b[1;32m    139\u001b[0m \u001b[0;34m\u001b[0m\u001b[0m\n",
      "\u001b[0;32m~/opt/anaconda3/lib/python3.8/site-packages/moviepy/video/compositing/concatenate.py\u001b[0m in \u001b[0;36mconcatenate_videoclips\u001b[0;34m(clips, method, transition, bg_color, ismask, padding)\u001b[0m\n\u001b[1;32m     73\u001b[0m     \u001b[0msizes\u001b[0m \u001b[0;34m=\u001b[0m \u001b[0;34m[\u001b[0m\u001b[0mv\u001b[0m\u001b[0;34m.\u001b[0m\u001b[0msize\u001b[0m \u001b[0;32mfor\u001b[0m \u001b[0mv\u001b[0m \u001b[0;32min\u001b[0m \u001b[0mclips\u001b[0m\u001b[0;34m]\u001b[0m\u001b[0;34m\u001b[0m\u001b[0;34m\u001b[0m\u001b[0m\n\u001b[1;32m     74\u001b[0m \u001b[0;34m\u001b[0m\u001b[0m\n\u001b[0;32m---> 75\u001b[0;31m     \u001b[0mw\u001b[0m \u001b[0;34m=\u001b[0m \u001b[0mmax\u001b[0m\u001b[0;34m(\u001b[0m\u001b[0mr\u001b[0m\u001b[0;34m[\u001b[0m\u001b[0;36m0\u001b[0m\u001b[0;34m]\u001b[0m \u001b[0;32mfor\u001b[0m \u001b[0mr\u001b[0m \u001b[0;32min\u001b[0m \u001b[0msizes\u001b[0m\u001b[0;34m)\u001b[0m\u001b[0;34m\u001b[0m\u001b[0;34m\u001b[0m\u001b[0m\n\u001b[0m\u001b[1;32m     76\u001b[0m     \u001b[0mh\u001b[0m \u001b[0;34m=\u001b[0m \u001b[0mmax\u001b[0m\u001b[0;34m(\u001b[0m\u001b[0mr\u001b[0m\u001b[0;34m[\u001b[0m\u001b[0;36m1\u001b[0m\u001b[0;34m]\u001b[0m \u001b[0;32mfor\u001b[0m \u001b[0mr\u001b[0m \u001b[0;32min\u001b[0m \u001b[0msizes\u001b[0m\u001b[0;34m)\u001b[0m\u001b[0;34m\u001b[0m\u001b[0;34m\u001b[0m\u001b[0m\n\u001b[1;32m     77\u001b[0m \u001b[0;34m\u001b[0m\u001b[0m\n",
      "\u001b[0;31mValueError\u001b[0m: max() arg is an empty sequence"
     ]
    }
   ],
   "source": [
    "#coposite \n",
    "#save\n",
    "\n",
    "final = concatenate(clips, method=\"compose\", padding=-0.2, bg_color=(255,255,255))#CompositeVideoClip concatenate_videoclips\n",
    "final.write_videofile(f\"{OUTPUT_DIR}/CloroquinaIvermectin.mp4\", fps=25, codec='libx264', audio_codec=\"aac\")"
   ]
  },
  {
   "cell_type": "code",
   "execution_count": null,
   "metadata": {},
   "outputs": [],
   "source": []
  }
 ],
 "metadata": {
  "kernelspec": {
   "display_name": "Python 3",
   "language": "python",
   "name": "python3"
  },
  "language_info": {
   "codemirror_mode": {
    "name": "ipython",
    "version": 3
   },
   "file_extension": ".py",
   "mimetype": "text/x-python",
   "name": "python",
   "nbconvert_exporter": "python",
   "pygments_lexer": "ipython3",
   "version": "3.8.5"
  }
 },
 "nbformat": 4,
 "nbformat_minor": 4
}
